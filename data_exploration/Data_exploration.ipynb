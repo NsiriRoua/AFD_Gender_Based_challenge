{
 "cells": [
  {
   "cell_type": "markdown",
   "metadata": {},
   "source": [
    "# Data Exploration"
   ]
  },
  {
   "cell_type": "code",
   "execution_count": 1,
   "metadata": {},
   "outputs": [],
   "source": [
    "import pandas as pd\n",
    "import seaborn as sns\n",
    "import matplotlib.pyplot as plt\n",
    "sns.set_theme(style=\"ticks\", color_codes=True)\n",
    "\n",
    "import warnings\n",
    "warnings.filterwarnings('ignore')\n",
    "import numpy as np\n",
    "import geopandas as gpd\n",
    "import plotly.express as px"
   ]
  },
  {
   "cell_type": "markdown",
   "metadata": {},
   "source": [
    "## Acts and laws dataset"
   ]
  },
  {
   "cell_type": "code",
   "execution_count": 2,
   "metadata": {},
   "outputs": [
    {
     "data": {
      "text/html": [
       "<div>\n",
       "<style scoped>\n",
       "    .dataframe tbody tr th:only-of-type {\n",
       "        vertical-align: middle;\n",
       "    }\n",
       "\n",
       "    .dataframe tbody tr th {\n",
       "        vertical-align: top;\n",
       "    }\n",
       "\n",
       "    .dataframe thead th {\n",
       "        text-align: right;\n",
       "    }\n",
       "</style>\n",
       "<table border=\"1\" class=\"dataframe\">\n",
       "  <thead>\n",
       "    <tr style=\"text-align: right;\">\n",
       "      <th></th>\n",
       "      <th>Unnamed: 0</th>\n",
       "      <th>Unnamed: 0.1</th>\n",
       "      <th>Country</th>\n",
       "      <th>Title</th>\n",
       "      <th>Year</th>\n",
       "      <th>Form of Violence</th>\n",
       "      <th>Full_Text</th>\n",
       "      <th>Brief_Description</th>\n",
       "      <th>Source of Info</th>\n",
       "      <th>Full_Text_Language</th>\n",
       "      <th>...</th>\n",
       "      <th>Income group</th>\n",
       "      <th>Rank_2020</th>\n",
       "      <th>Lower or single House Elections_2020</th>\n",
       "      <th>Lower or single House Seats_2020</th>\n",
       "      <th>Lower or single House Women_2020</th>\n",
       "      <th>Lower or single House % of Women_2020</th>\n",
       "      <th>Upper chamber Elections_2020</th>\n",
       "      <th>Upper chamber Seats_2020</th>\n",
       "      <th>Upper chamber Women_2020</th>\n",
       "      <th>Upper chamber % of Women_2020</th>\n",
       "    </tr>\n",
       "  </thead>\n",
       "  <tbody>\n",
       "    <tr>\n",
       "      <th>0</th>\n",
       "      <td>0</td>\n",
       "      <td>0</td>\n",
       "      <td>Tanzania</td>\n",
       "      <td>Law Prohibiting Child Marriage (Education Act)</td>\n",
       "      <td>2016</td>\n",
       "      <td>Child early and forced marriage</td>\n",
       "      <td>According to the bill supplement published by ...</td>\n",
       "      <td>NaN</td>\n",
       "      <td>[http://parliament.go.tz/\" target=\"_blank]Parl...</td>\n",
       "      <td>English</td>\n",
       "      <td>...</td>\n",
       "      <td>Lower middle income</td>\n",
       "      <td>34.0</td>\n",
       "      <td>10.2015</td>\n",
       "      <td>393</td>\n",
       "      <td>145</td>\n",
       "      <td>36.9</td>\n",
       "      <td>-</td>\n",
       "      <td>-</td>\n",
       "      <td>-</td>\n",
       "      <td>-</td>\n",
       "    </tr>\n",
       "    <tr>\n",
       "      <th>1</th>\n",
       "      <td>1</td>\n",
       "      <td>1</td>\n",
       "      <td>Tanzania</td>\n",
       "      <td>National Strategy for Gender Development</td>\n",
       "      <td>2005</td>\n",
       "      <td>Female genital mutilation</td>\n",
       "      <td>The National Strategy for Gender Development r...</td>\n",
       "      <td>National Strategy for Gender Development</td>\n",
       "      <td>Response of the Government of the United Repub...</td>\n",
       "      <td>English</td>\n",
       "      <td>...</td>\n",
       "      <td>Lower middle income</td>\n",
       "      <td>34.0</td>\n",
       "      <td>10.2015</td>\n",
       "      <td>393</td>\n",
       "      <td>145</td>\n",
       "      <td>36.9</td>\n",
       "      <td>-</td>\n",
       "      <td>-</td>\n",
       "      <td>-</td>\n",
       "      <td>-</td>\n",
       "    </tr>\n",
       "    <tr>\n",
       "      <th>2</th>\n",
       "      <td>2</td>\n",
       "      <td>2</td>\n",
       "      <td>Tanzania</td>\n",
       "      <td>Sexual Offences Special Provisions Act (FGM)</td>\n",
       "      <td>1998</td>\n",
       "      <td>Violence against women and girls</td>\n",
       "      <td>In 1998 the Parliament enacted the Sexual Offe...</td>\n",
       "      <td>Sexual Offences Special Provisions Act (FGM)</td>\n",
       "      <td>CEDAW/C/TZA/6 paras. 26 and 49.\\n\\n\\nThe Gover...</td>\n",
       "      <td>English</td>\n",
       "      <td>...</td>\n",
       "      <td>Lower middle income</td>\n",
       "      <td>34.0</td>\n",
       "      <td>10.2015</td>\n",
       "      <td>393</td>\n",
       "      <td>145</td>\n",
       "      <td>36.9</td>\n",
       "      <td>-</td>\n",
       "      <td>-</td>\n",
       "      <td>-</td>\n",
       "      <td>-</td>\n",
       "    </tr>\n",
       "    <tr>\n",
       "      <th>3</th>\n",
       "      <td>3</td>\n",
       "      <td>3</td>\n",
       "      <td>Tanzania</td>\n",
       "      <td>Anti Trafficking of Persons Act</td>\n",
       "      <td>2008</td>\n",
       "      <td>Trafficking</td>\n",
       "      <td>The Anti Trafficking of Persons Act, 2008 appl...</td>\n",
       "      <td>NaN</td>\n",
       "      <td>The Government of The United Republic of Tanza...</td>\n",
       "      <td>English</td>\n",
       "      <td>...</td>\n",
       "      <td>Lower middle income</td>\n",
       "      <td>34.0</td>\n",
       "      <td>10.2015</td>\n",
       "      <td>393</td>\n",
       "      <td>145</td>\n",
       "      <td>36.9</td>\n",
       "      <td>-</td>\n",
       "      <td>-</td>\n",
       "      <td>-</td>\n",
       "      <td>-</td>\n",
       "    </tr>\n",
       "    <tr>\n",
       "      <th>4</th>\n",
       "      <td>4</td>\n",
       "      <td>4</td>\n",
       "      <td>Tanzania</td>\n",
       "      <td>Gender Indicators Booklet</td>\n",
       "      <td>2010</td>\n",
       "      <td>Violence against women and girls</td>\n",
       "      <td>The Gender Indicators Booklet (2010) contains ...</td>\n",
       "      <td>Gender Indicators Booklet</td>\n",
       "      <td>Poverty Eradication and Economic Empowerment D...</td>\n",
       "      <td>NaN</td>\n",
       "      <td>...</td>\n",
       "      <td>Lower middle income</td>\n",
       "      <td>34.0</td>\n",
       "      <td>10.2015</td>\n",
       "      <td>393</td>\n",
       "      <td>145</td>\n",
       "      <td>36.9</td>\n",
       "      <td>-</td>\n",
       "      <td>-</td>\n",
       "      <td>-</td>\n",
       "      <td>-</td>\n",
       "    </tr>\n",
       "  </tbody>\n",
       "</table>\n",
       "<p>5 rows × 34 columns</p>\n",
       "</div>"
      ],
      "text/plain": [
       "   Unnamed: 0  Unnamed: 0.1   Country  \\\n",
       "0           0             0  Tanzania   \n",
       "1           1             1  Tanzania   \n",
       "2           2             2  Tanzania   \n",
       "3           3             3  Tanzania   \n",
       "4           4             4  Tanzania   \n",
       "\n",
       "                                            Title  Year  \\\n",
       "0  Law Prohibiting Child Marriage (Education Act)  2016   \n",
       "1        National Strategy for Gender Development  2005   \n",
       "2    Sexual Offences Special Provisions Act (FGM)  1998   \n",
       "3                 Anti Trafficking of Persons Act  2008   \n",
       "4                       Gender Indicators Booklet  2010   \n",
       "\n",
       "                   Form of Violence  \\\n",
       "0   Child early and forced marriage   \n",
       "1         Female genital mutilation   \n",
       "2  Violence against women and girls   \n",
       "3                       Trafficking   \n",
       "4  Violence against women and girls   \n",
       "\n",
       "                                           Full_Text  \\\n",
       "0  According to the bill supplement published by ...   \n",
       "1  The National Strategy for Gender Development r...   \n",
       "2  In 1998 the Parliament enacted the Sexual Offe...   \n",
       "3  The Anti Trafficking of Persons Act, 2008 appl...   \n",
       "4  The Gender Indicators Booklet (2010) contains ...   \n",
       "\n",
       "                              Brief_Description  \\\n",
       "0                                           NaN   \n",
       "1      National Strategy for Gender Development   \n",
       "2  Sexual Offences Special Provisions Act (FGM)   \n",
       "3                                           NaN   \n",
       "4                    Gender Indicators Booklet    \n",
       "\n",
       "                                      Source of Info Full_Text_Language  ...  \\\n",
       "0  [http://parliament.go.tz/\" target=\"_blank]Parl...            English  ...   \n",
       "1  Response of the Government of the United Repub...            English  ...   \n",
       "2  CEDAW/C/TZA/6 paras. 26 and 49.\\n\\n\\nThe Gover...            English  ...   \n",
       "3  The Government of The United Republic of Tanza...            English  ...   \n",
       "4  Poverty Eradication and Economic Empowerment D...                NaN  ...   \n",
       "\n",
       "          Income group Rank_2020 Lower or single House Elections_2020  \\\n",
       "0  Lower middle income      34.0                              10.2015   \n",
       "1  Lower middle income      34.0                              10.2015   \n",
       "2  Lower middle income      34.0                              10.2015   \n",
       "3  Lower middle income      34.0                              10.2015   \n",
       "4  Lower middle income      34.0                              10.2015   \n",
       "\n",
       "  Lower or single House Seats_2020 Lower or single House Women_2020  \\\n",
       "0                              393                              145   \n",
       "1                              393                              145   \n",
       "2                              393                              145   \n",
       "3                              393                              145   \n",
       "4                              393                              145   \n",
       "\n",
       "  Lower or single House % of Women_2020  Upper chamber Elections_2020  \\\n",
       "0                                  36.9                             -   \n",
       "1                                  36.9                             -   \n",
       "2                                  36.9                             -   \n",
       "3                                  36.9                             -   \n",
       "4                                  36.9                             -   \n",
       "\n",
       "  Upper chamber Seats_2020 Upper chamber Women_2020  \\\n",
       "0                        -                        -   \n",
       "1                        -                        -   \n",
       "2                        -                        -   \n",
       "3                        -                        -   \n",
       "4                        -                        -   \n",
       "\n",
       "   Upper chamber % of Women_2020  \n",
       "0                              -  \n",
       "1                              -  \n",
       "2                              -  \n",
       "3                              -  \n",
       "4                              -  \n",
       "\n",
       "[5 rows x 34 columns]"
      ]
     },
     "execution_count": 2,
     "metadata": {},
     "output_type": "execute_result"
    }
   ],
   "source": [
    "act_data = pd.read_csv('GBV_Pa.csv.csv')\n",
    "act_data.head()"
   ]
  },
  {
   "cell_type": "code",
   "execution_count": 137,
   "metadata": {},
   "outputs": [
    {
     "data": {
      "text/plain": [
       "(472, 34)"
      ]
     },
     "execution_count": 137,
     "metadata": {},
     "output_type": "execute_result"
    }
   ],
   "source": [
    "act_data.shape"
   ]
  },
  {
   "cell_type": "markdown",
   "metadata": {},
   "source": [
    "### Different types of violences mentioned here"
   ]
  },
  {
   "cell_type": "code",
   "execution_count": 9,
   "metadata": {},
   "outputs": [
    {
     "data": {
      "image/png": "[encoded data removed]",
      "text/plain": [
       "<Figure size 432x288 with 1 Axes>"
      ]
     },
     "metadata": {},
     "output_type": "display_data"
    }
   ],
   "source": [
    "act_data['Form of Violence'].value_counts().plot(kind='bar')\n",
    "plt.title('Forms of Violence')\n",
    "plt.ylabel('Number of Cases')\n",
    "plt.show()"
   ]
  },
  {
   "cell_type": "markdown",
   "metadata": {},
   "source": [
    ">* We notice that of the different types of violence mentioned here, sexual violence is the most common"
   ]
  },
  {
   "cell_type": "markdown",
   "metadata": {},
   "source": [
    "### Different types of violence observed in different countries"
   ]
  },
  {
   "cell_type": "code",
   "execution_count": 5,
   "metadata": {},
   "outputs": [
    {
     "data": {
      "image/png": "[encoded data removed]",
      "text/plain": [
       "<Figure size 952.704x595.44 with 1 Axes>"
      ]
     },
     "metadata": {},
     "output_type": "display_data"
    }
   ],
   "source": [
    "sns.catplot(x=\"Form of Violence\", y=\"Country\", data=act_data, height=8.27,aspect=8/5)\n",
    "plt.xticks(rotation=90);"
   ]
  },
  {
   "cell_type": "markdown",
   "metadata": {},
   "source": [
    ">* The above gives a visualization on the spread of violence in different African countries.\n",
    ">* We see that sexual violence and trafficking are the most common violence."
   ]
  },
  {
   "cell_type": "markdown",
   "metadata": {},
   "source": [
    "## Female Dataset"
   ]
  },
  {
   "cell_type": "markdown",
   "metadata": {},
   "source": [
    "The following analysis considers women between 20 and 24 who were married before the age of 15. The dataset is available here: https://www.unfpa.org/data/dashboard/adolescent-youth\n"
   ]
  },
  {
   "cell_type": "code",
   "execution_count": 10,
   "metadata": {
    "scrolled": true
   },
   "outputs": [
    {
     "data": {
      "text/html": [
       "<div>\n",
       "<style scoped>\n",
       "    .dataframe tbody tr th:only-of-type {\n",
       "        vertical-align: middle;\n",
       "    }\n",
       "\n",
       "    .dataframe tbody tr th {\n",
       "        vertical-align: top;\n",
       "    }\n",
       "\n",
       "    .dataframe thead th {\n",
       "        text-align: right;\n",
       "    }\n",
       "</style>\n",
       "<table border=\"1\" class=\"dataframe\">\n",
       "  <thead>\n",
       "    <tr style=\"text-align: right;\">\n",
       "      <th></th>\n",
       "      <th>Country</th>\n",
       "      <th>Value</th>\n",
       "    </tr>\n",
       "  </thead>\n",
       "  <tbody>\n",
       "    <tr>\n",
       "      <th>0</th>\n",
       "      <td>Benin</td>\n",
       "      <td>11</td>\n",
       "    </tr>\n",
       "    <tr>\n",
       "      <th>1</th>\n",
       "      <td>Burkina Faso</td>\n",
       "      <td>10</td>\n",
       "    </tr>\n",
       "    <tr>\n",
       "      <th>2</th>\n",
       "      <td>Cameroon</td>\n",
       "      <td>13</td>\n",
       "    </tr>\n",
       "    <tr>\n",
       "      <th>3</th>\n",
       "      <td>Chad</td>\n",
       "      <td>30</td>\n",
       "    </tr>\n",
       "    <tr>\n",
       "      <th>4</th>\n",
       "      <td>Comoros</td>\n",
       "      <td>10</td>\n",
       "    </tr>\n",
       "  </tbody>\n",
       "</table>\n",
       "</div>"
      ],
      "text/plain": [
       "        Country  Value\n",
       "0         Benin     11\n",
       "1  Burkina Faso     10\n",
       "2      Cameroon     13\n",
       "3          Chad     30\n",
       "4       Comoros     10"
      ]
     },
     "execution_count": 10,
     "metadata": {},
     "output_type": "execute_result"
    }
   ],
   "source": [
    "fem = pd.read_csv('vbg_zindi/FemaleData/Percentage of women aged 20-24 who were married before age 15.csv')\n",
    "fem.head()"
   ]
  },
  {
   "cell_type": "code",
   "execution_count": 11,
   "metadata": {
    "scrolled": false
   },
   "outputs": [
    {
     "data": {
      "image/png": "[encoded data removed]",
      "text/plain": [
       "<Figure size 720x576 with 1 Axes>"
      ]
     },
     "metadata": {},
     "output_type": "display_data"
    }
   ],
   "source": [
    "plt.figure(figsize=(10,8))\n",
    "plt.bar(fem['Country'],fem['Value'])\n",
    "plt.xticks(rotation=90);\n",
    "plt.ylabel('Percentage')\n",
    "plt.xlabel('Countries')\n",
    "plt.title('Percentage of women aged 20-24 who were married before age 15')\n",
    "plt.show()"
   ]
  },
  {
   "cell_type": "code",
   "execution_count": 15,
   "metadata": {},
   "outputs": [
    {
     "data": {
      "application/vnd.plotly.v1+json": {
       "config": {
        "plotlyServerURL": "https://plot.ly"
       },
       "data": [
        {
         "coloraxis": "coloraxis",
         "geo": "geo",
         "hovertemplate": "Country=%{location}<br>Value=%{z}<extra></extra>",
         "locationmode": "country names",
         "locations": [
          "Benin",
          "Burkina Faso",
          "Cameroon",
          "Chad",
          "Comoros",
          "Congo",
          "Côte d'Ivoire",
          "Congo, the Democratic Republic of the",
          "Ethiopia",
          "Gabon",
          "Gambia",
          "Ghana",
          "Guinea",
          "Kenya",
          "Liberia",
          "Malawi",
          "Mali",
          "Mozambique",
          "Namibia",
          "Nepal",
          "Niger",
          "Nigeria",
          "Senegal",
          "Sierra Leone",
          "Togo",
          "Uganda",
          "Zambia",
          "Zimbabwe"
         ],
         "name": "",
         "type": "choropleth",
         "z": [
          11,
          10,
          13,
          30,
          10,
          6,
          10,
          10,
          16,
          6,
          9,
          5,
          21,
          4,
          9,
          12,
          23,
          14,
          2,
          10,
          28,
          17,
          12,
          13,
          6,
          10,
          6,
          4
         ]
        }
       ],
       "layout": {
        "coloraxis": {
         "colorbar": {
          "title": {
           "text": "Value"
          }
         },
         "colorscale": [
          [
           0,
           "#0d0887"
          ],
          [
           0.1111111111111111,
           "#46039f"
          ],
          [
           0.2222222222222222,
           "#7201a8"
          ],
          [
           0.3333333333333333,
           "#9c179e"
          ],
          [
           0.4444444444444444,
           "#bd3786"
          ],
          [
           0.5555555555555556,
           "#d8576b"
          ],
          [
           0.6666666666666666,
           "#ed7953"
          ],
          [
           0.7777777777777778,
           "#fb9f3a"
          ],
          [
           0.8888888888888888,
           "#fdca26"
          ],
          [
           1,
           "#f0f921"
          ]
         ]
        },
        "geo": {
         "center": {},
         "domain": {
          "x": [
           0,
           1
          ],
          "y": [
           0,
           1
          ]
         },
         "scope": "africa"
        },
        "legend": {
         "tracegroupgap": 0
        },
        "template": {
         "data": {
          "bar": [
           {
            "error_x": {
             "color": "#2a3f5f"
            },
            "error_y": {
             "color": "#2a3f5f"
            },
            "marker": {
             "line": {
              "color": "#E5ECF6",
              "width": 0.5
             }
            },
            "type": "bar"
           }
          ],
          "barpolar": [
           {
            "marker": {
             "line": {
              "color": "#E5ECF6",
              "width": 0.5
             }
            },
            "type": "barpolar"
           }
          ],
          "carpet": [
           {
            "aaxis": {
             "endlinecolor": "#2a3f5f",
             "gridcolor": "white",
             "linecolor": "white",
             "minorgridcolor": "white",
             "startlinecolor": "#2a3f5f"
            },
            "baxis": {
             "endlinecolor": "#2a3f5f",
             "gridcolor": "white",
             "linecolor": "white",
             "minorgridcolor": "white",
             "startlinecolor": "#2a3f5f"
            },
            "type": "carpet"
           }
          ],
          "choropleth": [
           {
            "colorbar": {
             "outlinewidth": 0,
             "ticks": ""
            },
            "type": "choropleth"
           }
          ],
          "contour": [
           {
            "colorbar": {
             "outlinewidth": 0,
             "ticks": ""
            },
            "colorscale": [
             [
              0,
              "#0d0887"
             ],
             [
              0.1111111111111111,
              "#46039f"
             ],
             [
              0.2222222222222222,
              "#7201a8"
             ],
             [
              0.3333333333333333,
              "#9c179e"
             ],
             [
              0.4444444444444444,
              "#bd3786"
             ],
             [
              0.5555555555555556,
              "#d8576b"
             ],
             [
              0.6666666666666666,
              "#ed7953"
             ],
             [
              0.7777777777777778,
              "#fb9f3a"
             ],
             [
              0.8888888888888888,
              "#fdca26"
             ],
             [
              1,
              "#f0f921"
             ]
            ],
            "type": "contour"
           }
          ],
          "contourcarpet": [
           {
            "colorbar": {
             "outlinewidth": 0,
             "ticks": ""
            },
            "type": "contourcarpet"
           }
          ],
          "heatmap": [
           {
            "colorbar": {
             "outlinewidth": 0,
             "ticks": ""
            },
            "colorscale": [
             [
              0,
              "#0d0887"
             ],
             [
              0.1111111111111111,
              "#46039f"
             ],
             [
              0.2222222222222222,
              "#7201a8"
             ],
             [
              0.3333333333333333,
              "#9c179e"
             ],
             [
              0.4444444444444444,
              "#bd3786"
             ],
             [
              0.5555555555555556,
              "#d8576b"
             ],
             [
              0.6666666666666666,
              "#ed7953"
             ],
             [
              0.7777777777777778,
              "#fb9f3a"
             ],
             [
              0.8888888888888888,
              "#fdca26"
             ],
             [
              1,
              "#f0f921"
             ]
            ],
            "type": "heatmap"
           }
          ],
          "heatmapgl": [
           {
            "colorbar": {
             "outlinewidth": 0,
             "ticks": ""
            },
            "colorscale": [
             [
              0,
              "#0d0887"
             ],
             [
              0.1111111111111111,
              "#46039f"
             ],
             [
              0.2222222222222222,
              "#7201a8"
             ],
             [
              0.3333333333333333,
              "#9c179e"
             ],
             [
              0.4444444444444444,
              "#bd3786"
             ],
             [
              0.5555555555555556,
              "#d8576b"
             ],
             [
              0.6666666666666666,
              "#ed7953"
             ],
             [
              0.7777777777777778,
              "#fb9f3a"
             ],
             [
              0.8888888888888888,
              "#fdca26"
             ],
             [
              1,
              "#f0f921"
             ]
            ],
            "type": "heatmapgl"
           }
          ],
          "histogram": [
           {
            "marker": {
             "colorbar": {
              "outlinewidth": 0,
              "ticks": ""
             }
            },
            "type": "histogram"
           }
          ],
          "histogram2d": [
           {
            "colorbar": {
             "outlinewidth": 0,
             "ticks": ""
            },
            "colorscale": [
             [
              0,
              "#0d0887"
             ],
             [
              0.1111111111111111,
              "#46039f"
             ],
             [
              0.2222222222222222,
              "#7201a8"
             ],
             [
              0.3333333333333333,
              "#9c179e"
             ],
             [
              0.4444444444444444,
              "#bd3786"
             ],
             [
              0.5555555555555556,
              "#d8576b"
             ],
             [
              0.6666666666666666,
              "#ed7953"
             ],
             [
              0.7777777777777778,
              "#fb9f3a"
             ],
             [
              0.8888888888888888,
              "#fdca26"
             ],
             [
              1,
              "#f0f921"
             ]
            ],
            "type": "histogram2d"
           }
          ],
          "histogram2dcontour": [
           {
            "colorbar": {
             "outlinewidth": 0,
             "ticks": ""
            },
            "colorscale": [
             [
              0,
              "#0d0887"
             ],
             [
              0.1111111111111111,
              "#46039f"
             ],
             [
              0.2222222222222222,
              "#7201a8"
             ],
             [
              0.3333333333333333,
              "#9c179e"
             ],
             [
              0.4444444444444444,
              "#bd3786"
             ],
             [
              0.5555555555555556,
              "#d8576b"
             ],
             [
              0.6666666666666666,
              "#ed7953"
             ],
             [
              0.7777777777777778,
              "#fb9f3a"
             ],
             [
              0.8888888888888888,
              "#fdca26"
             ],
             [
              1,
              "#f0f921"
             ]
            ],
            "type": "histogram2dcontour"
           }
          ],
          "mesh3d": [
           {
            "colorbar": {
             "outlinewidth": 0,
             "ticks": ""
            },
            "type": "mesh3d"
           }
          ],
          "parcoords": [
           {
            "line": {
             "colorbar": {
              "outlinewidth": 0,
              "ticks": ""
             }
            },
            "type": "parcoords"
           }
          ],
          "pie": [
           {
            "automargin": true,
            "type": "pie"
           }
          ],
          "scatter": [
           {
            "marker": {
             "colorbar": {
              "outlinewidth": 0,
              "ticks": ""
             }
            },
            "type": "scatter"
           }
          ],
          "scatter3d": [
           {
            "line": {
             "colorbar": {
              "outlinewidth": 0,
              "ticks": ""
             }
            },
            "marker": {
             "colorbar": {
              "outlinewidth": 0,
              "ticks": ""
             }
            },
            "type": "scatter3d"
           }
          ],
          "scattercarpet": [
           {
            "marker": {
             "colorbar": {
              "outlinewidth": 0,
              "ticks": ""
             }
            },
            "type": "scattercarpet"
           }
          ],
          "scattergeo": [
           {
            "marker": {
             "colorbar": {
              "outlinewidth": 0,
              "ticks": ""
             }
            },
            "type": "scattergeo"
           }
          ],
          "scattergl": [
           {
            "marker": {
             "colorbar": {
              "outlinewidth": 0,
              "ticks": ""
             }
            },
            "type": "scattergl"
           }
          ],
          "scattermapbox": [
           {
            "marker": {
             "colorbar": {
              "outlinewidth": 0,
              "ticks": ""
             }
            },
            "type": "scattermapbox"
           }
          ],
          "scatterpolar": [
           {
            "marker": {
             "colorbar": {
              "outlinewidth": 0,
              "ticks": ""
             }
            },
            "type": "scatterpolar"
           }
          ],
          "scatterpolargl": [
           {
            "marker": {
             "colorbar": {
              "outlinewidth": 0,
              "ticks": ""
             }
            },
            "type": "scatterpolargl"
           }
          ],
          "scatterternary": [
           {
            "marker": {
             "colorbar": {
              "outlinewidth": 0,
              "ticks": ""
             }
            },
            "type": "scatterternary"
           }
          ],
          "surface": [
           {
            "colorbar": {
             "outlinewidth": 0,
             "ticks": ""
            },
            "colorscale": [
             [
              0,
              "#0d0887"
             ],
             [
              0.1111111111111111,
              "#46039f"
             ],
             [
              0.2222222222222222,
              "#7201a8"
             ],
             [
              0.3333333333333333,
              "#9c179e"
             ],
             [
              0.4444444444444444,
              "#bd3786"
             ],
             [
              0.5555555555555556,
              "#d8576b"
             ],
             [
              0.6666666666666666,
              "#ed7953"
             ],
             [
              0.7777777777777778,
              "#fb9f3a"
             ],
             [
              0.8888888888888888,
              "#fdca26"
             ],
             [
              1,
              "#f0f921"
             ]
            ],
            "type": "surface"
           }
          ],
          "table": [
           {
            "cells": {
             "fill": {
              "color": "#EBF0F8"
             },
             "line": {
              "color": "white"
             }
            },
            "header": {
             "fill": {
              "color": "#C8D4E3"
             },
             "line": {
              "color": "white"
             }
            },
            "type": "table"
           }
          ]
         },
         "layout": {
          "annotationdefaults": {
           "arrowcolor": "#2a3f5f",
           "arrowhead": 0,
           "arrowwidth": 1
          },
          "autotypenumbers": "strict",
          "coloraxis": {
           "colorbar": {
            "outlinewidth": 0,
            "ticks": ""
           }
          },
          "colorscale": {
           "diverging": [
            [
             0,
             "#8e0152"
            ],
            [
             0.1,
             "#c51b7d"
            ],
            [
             0.2,
             "#de77ae"
            ],
            [
             0.3,
             "#f1b6da"
            ],
            [
             0.4,
             "#fde0ef"
            ],
            [
             0.5,
             "#f7f7f7"
            ],
            [
             0.6,
             "#e6f5d0"
            ],
            [
             0.7,
             "#b8e186"
            ],
            [
             0.8,
             "#7fbc41"
            ],
            [
             0.9,
             "#4d9221"
            ],
            [
             1,
             "#276419"
            ]
           ],
           "sequential": [
            [
             0,
             "#0d0887"
            ],
            [
             0.1111111111111111,
             "#46039f"
            ],
            [
             0.2222222222222222,
             "#7201a8"
            ],
            [
             0.3333333333333333,
             "#9c179e"
            ],
            [
             0.4444444444444444,
             "#bd3786"
            ],
            [
             0.5555555555555556,
             "#d8576b"
            ],
            [
             0.6666666666666666,
             "#ed7953"
            ],
            [
             0.7777777777777778,
             "#fb9f3a"
            ],
            [
             0.8888888888888888,
             "#fdca26"
            ],
            [
             1,
             "#f0f921"
            ]
           ],
           "sequentialminus": [
            [
             0,
             "#0d0887"
            ],
            [
             0.1111111111111111,
             "#46039f"
            ],
            [
             0.2222222222222222,
             "#7201a8"
            ],
            [
             0.3333333333333333,
             "#9c179e"
            ],
            [
             0.4444444444444444,
             "#bd3786"
            ],
            [
             0.5555555555555556,
             "#d8576b"
            ],
            [
             0.6666666666666666,
             "#ed7953"
            ],
            [
             0.7777777777777778,
             "#fb9f3a"
            ],
            [
             0.8888888888888888,
             "#fdca26"
            ],
            [
             1,
             "#f0f921"
            ]
           ]
          },
          "colorway": [
           "#636efa",
           "#EF553B",
           "#00cc96",
           "#ab63fa",
           "#FFA15A",
           "#19d3f3",
           "#FF6692",
           "#B6E880",
           "#FF97FF",
           "#FECB52"
          ],
          "font": {
           "color": "#2a3f5f"
          },
          "geo": {
           "bgcolor": "white",
           "lakecolor": "white",
           "landcolor": "#E5ECF6",
           "showlakes": true,
           "showland": true,
           "subunitcolor": "white"
          },
          "hoverlabel": {
           "align": "left"
          },
          "hovermode": "closest",
          "mapbox": {
           "style": "light"
          },
          "paper_bgcolor": "white",
          "plot_bgcolor": "#E5ECF6",
          "polar": {
           "angularaxis": {
            "gridcolor": "white",
            "linecolor": "white",
            "ticks": ""
           },
           "bgcolor": "#E5ECF6",
           "radialaxis": {
            "gridcolor": "white",
            "linecolor": "white",
            "ticks": ""
           }
          },
          "scene": {
           "xaxis": {
            "backgroundcolor": "#E5ECF6",
            "gridcolor": "white",
            "gridwidth": 2,
            "linecolor": "white",
            "showbackground": true,
            "ticks": "",
            "zerolinecolor": "white"
           },
           "yaxis": {
            "backgroundcolor": "#E5ECF6",
            "gridcolor": "white",
            "gridwidth": 2,
            "linecolor": "white",
            "showbackground": true,
            "ticks": "",
            "zerolinecolor": "white"
           },
           "zaxis": {
            "backgroundcolor": "#E5ECF6",
            "gridcolor": "white",
            "gridwidth": 2,
            "linecolor": "white",
            "showbackground": true,
            "ticks": "",
            "zerolinecolor": "white"
           }
          },
          "shapedefaults": {
           "line": {
            "color": "#2a3f5f"
           }
          },
          "ternary": {
           "aaxis": {
            "gridcolor": "white",
            "linecolor": "white",
            "ticks": ""
           },
           "baxis": {
            "gridcolor": "white",
            "linecolor": "white",
            "ticks": ""
           },
           "bgcolor": "#E5ECF6",
           "caxis": {
            "gridcolor": "white",
            "linecolor": "white",
            "ticks": ""
           }
          },
          "title": {
           "x": 0.05
          },
          "xaxis": {
           "automargin": true,
           "gridcolor": "white",
           "linecolor": "white",
           "ticks": "",
           "title": {
            "standoff": 15
           },
           "zerolinecolor": "white",
           "zerolinewidth": 2
          },
          "yaxis": {
           "automargin": true,
           "gridcolor": "white",
           "linecolor": "white",
           "ticks": "",
           "title": {
            "standoff": 15
           },
           "zerolinecolor": "white",
           "zerolinewidth": 2
          }
         }
        },
        "title": {
         "text": "Percentage of women aged 20-24 who were married before age 15"
        }
       }
      },
      "text/html": [
       "<div>                            <div id=\"0e3e3b9d-94d5-4cd8-8e19-9ecca1491e2c\" class=\"plotly-graph-div\" style=\"height:525px; width:100%;\"></div>            <script type=\"text/javascript\">                require([\"plotly\"], function(Plotly) {                    window.PLOTLYENV=window.PLOTLYENV || {};                                    if (document.getElementById(\"0e3e3b9d-94d5-4cd8-8e19-9ecca1491e2c\")) {                    Plotly.newPlot(                        \"0e3e3b9d-94d5-4cd8-8e19-9ecca1491e2c\",                        [{\"coloraxis\": \"coloraxis\", \"geo\": \"geo\", \"hovertemplate\": \"Country=%{location}<br>Value=%{z}<extra></extra>\", \"locationmode\": \"country names\", \"locations\": [\"Benin\", \"Burkina Faso\", \"Cameroon\", \"Chad\", \"Comoros\", \"Congo\", \"C\\u00f4te d'Ivoire\", \"Congo, the Democratic Republic of the\", \"Ethiopia\", \"Gabon\", \"Gambia\", \"Ghana\", \"Guinea\", \"Kenya\", \"Liberia\", \"Malawi\", \"Mali\", \"Mozambique\", \"Namibia\", \"Nepal\", \"Niger\", \"Nigeria\", \"Senegal\", \"Sierra Leone\", \"Togo\", \"Uganda\", \"Zambia\", \"Zimbabwe\"], \"name\": \"\", \"type\": \"choropleth\", \"z\": [11, 10, 13, 30, 10, 6, 10, 10, 16, 6, 9, 5, 21, 4, 9, 12, 23, 14, 2, 10, 28, 17, 12, 13, 6, 10, 6, 4]}],                        {\"coloraxis\": {\"colorbar\": {\"title\": {\"text\": \"Value\"}}, \"colorscale\": [[0.0, \"#0d0887\"], [0.1111111111111111, \"#46039f\"], [0.2222222222222222, \"#7201a8\"], [0.3333333333333333, \"#9c179e\"], [0.4444444444444444, \"#bd3786\"], [0.5555555555555556, \"#d8576b\"], [0.6666666666666666, \"#ed7953\"], [0.7777777777777778, \"#fb9f3a\"], [0.8888888888888888, \"#fdca26\"], [1.0, \"#f0f921\"]]}, \"geo\": {\"center\": {}, \"domain\": {\"x\": [0.0, 1.0], \"y\": [0.0, 1.0]}, \"scope\": \"africa\"}, \"legend\": {\"tracegroupgap\": 0}, \"template\": {\"data\": {\"bar\": [{\"error_x\": {\"color\": \"#2a3f5f\"}, \"error_y\": {\"color\": \"#2a3f5f\"}, \"marker\": {\"line\": {\"color\": \"#E5ECF6\", \"width\": 0.5}}, \"type\": \"bar\"}], \"barpolar\": [{\"marker\": {\"line\": {\"color\": \"#E5ECF6\", \"width\": 0.5}}, \"type\": \"barpolar\"}], \"carpet\": [{\"aaxis\": {\"endlinecolor\": \"#2a3f5f\", \"gridcolor\": \"white\", \"linecolor\": \"white\", \"minorgridcolor\": \"white\", \"startlinecolor\": \"#2a3f5f\"}, \"baxis\": {\"endlinecolor\": \"#2a3f5f\", \"gridcolor\": \"white\", \"linecolor\": \"white\", \"minorgridcolor\": \"white\", \"startlinecolor\": \"#2a3f5f\"}, \"type\": \"carpet\"}], \"choropleth\": [{\"colorbar\": {\"outlinewidth\": 0, \"ticks\": \"\"}, \"type\": \"choropleth\"}], \"contour\": [{\"colorbar\": {\"outlinewidth\": 0, \"ticks\": \"\"}, \"colorscale\": [[0.0, \"#0d0887\"], [0.1111111111111111, \"#46039f\"], [0.2222222222222222, \"#7201a8\"], [0.3333333333333333, \"#9c179e\"], [0.4444444444444444, \"#bd3786\"], [0.5555555555555556, \"#d8576b\"], [0.6666666666666666, \"#ed7953\"], [0.7777777777777778, \"#fb9f3a\"], [0.8888888888888888, \"#fdca26\"], [1.0, \"#f0f921\"]], \"type\": \"contour\"}], \"contourcarpet\": [{\"colorbar\": {\"outlinewidth\": 0, \"ticks\": \"\"}, \"type\": \"contourcarpet\"}], \"heatmap\": [{\"colorbar\": {\"outlinewidth\": 0, \"ticks\": \"\"}, \"colorscale\": [[0.0, \"#0d0887\"], [0.1111111111111111, \"#46039f\"], [0.2222222222222222, \"#7201a8\"], [0.3333333333333333, \"#9c179e\"], [0.4444444444444444, \"#bd3786\"], [0.5555555555555556, \"#d8576b\"], [0.6666666666666666, \"#ed7953\"], [0.7777777777777778, \"#fb9f3a\"], [0.8888888888888888, \"#fdca26\"], [1.0, \"#f0f921\"]], \"type\": \"heatmap\"}], \"heatmapgl\": [{\"colorbar\": {\"outlinewidth\": 0, \"ticks\": \"\"}, \"colorscale\": [[0.0, \"#0d0887\"], [0.1111111111111111, \"#46039f\"], [0.2222222222222222, \"#7201a8\"], [0.3333333333333333, \"#9c179e\"], [0.4444444444444444, \"#bd3786\"], [0.5555555555555556, \"#d8576b\"], [0.6666666666666666, \"#ed7953\"], [0.7777777777777778, \"#fb9f3a\"], [0.8888888888888888, \"#fdca26\"], [1.0, \"#f0f921\"]], \"type\": \"heatmapgl\"}], \"histogram\": [{\"marker\": {\"colorbar\": {\"outlinewidth\": 0, \"ticks\": \"\"}}, \"type\": \"histogram\"}], \"histogram2d\": [{\"colorbar\": {\"outlinewidth\": 0, \"ticks\": \"\"}, \"colorscale\": [[0.0, \"#0d0887\"], [0.1111111111111111, \"#46039f\"], [0.2222222222222222, \"#7201a8\"], [0.3333333333333333, \"#9c179e\"], [0.4444444444444444, \"#bd3786\"], [0.5555555555555556, \"#d8576b\"], [0.6666666666666666, \"#ed7953\"], [0.7777777777777778, \"#fb9f3a\"], [0.8888888888888888, \"#fdca26\"], [1.0, \"#f0f921\"]], \"type\": \"histogram2d\"}], \"histogram2dcontour\": [{\"colorbar\": {\"outlinewidth\": 0, \"ticks\": \"\"}, \"colorscale\": [[0.0, \"#0d0887\"], [0.1111111111111111, \"#46039f\"], [0.2222222222222222, \"#7201a8\"], [0.3333333333333333, \"#9c179e\"], [0.4444444444444444, \"#bd3786\"], [0.5555555555555556, \"#d8576b\"], [0.6666666666666666, \"#ed7953\"], [0.7777777777777778, \"#fb9f3a\"], [0.8888888888888888, \"#fdca26\"], [1.0, \"#f0f921\"]], \"type\": \"histogram2dcontour\"}], \"mesh3d\": [{\"colorbar\": {\"outlinewidth\": 0, \"ticks\": \"\"}, \"type\": \"mesh3d\"}], \"parcoords\": [{\"line\": {\"colorbar\": {\"outlinewidth\": 0, \"ticks\": \"\"}}, \"type\": \"parcoords\"}], \"pie\": [{\"automargin\": true, \"type\": \"pie\"}], \"scatter\": [{\"marker\": {\"colorbar\": {\"outlinewidth\": 0, \"ticks\": \"\"}}, \"type\": \"scatter\"}], \"scatter3d\": [{\"line\": {\"colorbar\": {\"outlinewidth\": 0, \"ticks\": \"\"}}, \"marker\": {\"colorbar\": {\"outlinewidth\": 0, \"ticks\": \"\"}}, \"type\": \"scatter3d\"}], \"scattercarpet\": [{\"marker\": {\"colorbar\": {\"outlinewidth\": 0, \"ticks\": \"\"}}, \"type\": \"scattercarpet\"}], \"scattergeo\": [{\"marker\": {\"colorbar\": {\"outlinewidth\": 0, \"ticks\": \"\"}}, \"type\": \"scattergeo\"}], \"scattergl\": [{\"marker\": {\"colorbar\": {\"outlinewidth\": 0, \"ticks\": \"\"}}, \"type\": \"scattergl\"}], \"scattermapbox\": [{\"marker\": {\"colorbar\": {\"outlinewidth\": 0, \"ticks\": \"\"}}, \"type\": \"scattermapbox\"}], \"scatterpolar\": [{\"marker\": {\"colorbar\": {\"outlinewidth\": 0, \"ticks\": \"\"}}, \"type\": \"scatterpolar\"}], \"scatterpolargl\": [{\"marker\": {\"colorbar\": {\"outlinewidth\": 0, \"ticks\": \"\"}}, \"type\": \"scatterpolargl\"}], \"scatterternary\": [{\"marker\": {\"colorbar\": {\"outlinewidth\": 0, \"ticks\": \"\"}}, \"type\": \"scatterternary\"}], \"surface\": [{\"colorbar\": {\"outlinewidth\": 0, \"ticks\": \"\"}, \"colorscale\": [[0.0, \"#0d0887\"], [0.1111111111111111, \"#46039f\"], [0.2222222222222222, \"#7201a8\"], [0.3333333333333333, \"#9c179e\"], [0.4444444444444444, \"#bd3786\"], [0.5555555555555556, \"#d8576b\"], [0.6666666666666666, \"#ed7953\"], [0.7777777777777778, \"#fb9f3a\"], [0.8888888888888888, \"#fdca26\"], [1.0, \"#f0f921\"]], \"type\": \"surface\"}], \"table\": [{\"cells\": {\"fill\": {\"color\": \"#EBF0F8\"}, \"line\": {\"color\": \"white\"}}, \"header\": {\"fill\": {\"color\": \"#C8D4E3\"}, \"line\": {\"color\": \"white\"}}, \"type\": \"table\"}]}, \"layout\": {\"annotationdefaults\": {\"arrowcolor\": \"#2a3f5f\", \"arrowhead\": 0, \"arrowwidth\": 1}, \"autotypenumbers\": \"strict\", \"coloraxis\": {\"colorbar\": {\"outlinewidth\": 0, \"ticks\": \"\"}}, \"colorscale\": {\"diverging\": [[0, \"#8e0152\"], [0.1, \"#c51b7d\"], [0.2, \"#de77ae\"], [0.3, \"#f1b6da\"], [0.4, \"#fde0ef\"], [0.5, \"#f7f7f7\"], [0.6, \"#e6f5d0\"], [0.7, \"#b8e186\"], [0.8, \"#7fbc41\"], [0.9, \"#4d9221\"], [1, \"#276419\"]], \"sequential\": [[0.0, \"#0d0887\"], [0.1111111111111111, \"#46039f\"], [0.2222222222222222, \"#7201a8\"], [0.3333333333333333, \"#9c179e\"], [0.4444444444444444, \"#bd3786\"], [0.5555555555555556, \"#d8576b\"], [0.6666666666666666, \"#ed7953\"], [0.7777777777777778, \"#fb9f3a\"], [0.8888888888888888, \"#fdca26\"], [1.0, \"#f0f921\"]], \"sequentialminus\": [[0.0, \"#0d0887\"], [0.1111111111111111, \"#46039f\"], [0.2222222222222222, \"#7201a8\"], [0.3333333333333333, \"#9c179e\"], [0.4444444444444444, \"#bd3786\"], [0.5555555555555556, \"#d8576b\"], [0.6666666666666666, \"#ed7953\"], [0.7777777777777778, \"#fb9f3a\"], [0.8888888888888888, \"#fdca26\"], [1.0, \"#f0f921\"]]}, \"colorway\": [\"#636efa\", \"#EF553B\", \"#00cc96\", \"#ab63fa\", \"#FFA15A\", \"#19d3f3\", \"#FF6692\", \"#B6E880\", \"#FF97FF\", \"#FECB52\"], \"font\": {\"color\": \"#2a3f5f\"}, \"geo\": {\"bgcolor\": \"white\", \"lakecolor\": \"white\", \"landcolor\": \"#E5ECF6\", \"showlakes\": true, \"showland\": true, \"subunitcolor\": \"white\"}, \"hoverlabel\": {\"align\": \"left\"}, \"hovermode\": \"closest\", \"mapbox\": {\"style\": \"light\"}, \"paper_bgcolor\": \"white\", \"plot_bgcolor\": \"#E5ECF6\", \"polar\": {\"angularaxis\": {\"gridcolor\": \"white\", \"linecolor\": \"white\", \"ticks\": \"\"}, \"bgcolor\": \"#E5ECF6\", \"radialaxis\": {\"gridcolor\": \"white\", \"linecolor\": \"white\", \"ticks\": \"\"}}, \"scene\": {\"xaxis\": {\"backgroundcolor\": \"#E5ECF6\", \"gridcolor\": \"white\", \"gridwidth\": 2, \"linecolor\": \"white\", \"showbackground\": true, \"ticks\": \"\", \"zerolinecolor\": \"white\"}, \"yaxis\": {\"backgroundcolor\": \"#E5ECF6\", \"gridcolor\": \"white\", \"gridwidth\": 2, \"linecolor\": \"white\", \"showbackground\": true, \"ticks\": \"\", \"zerolinecolor\": \"white\"}, \"zaxis\": {\"backgroundcolor\": \"#E5ECF6\", \"gridcolor\": \"white\", \"gridwidth\": 2, \"linecolor\": \"white\", \"showbackground\": true, \"ticks\": \"\", \"zerolinecolor\": \"white\"}}, \"shapedefaults\": {\"line\": {\"color\": \"#2a3f5f\"}}, \"ternary\": {\"aaxis\": {\"gridcolor\": \"white\", \"linecolor\": \"white\", \"ticks\": \"\"}, \"baxis\": {\"gridcolor\": \"white\", \"linecolor\": \"white\", \"ticks\": \"\"}, \"bgcolor\": \"#E5ECF6\", \"caxis\": {\"gridcolor\": \"white\", \"linecolor\": \"white\", \"ticks\": \"\"}}, \"title\": {\"x\": 0.05}, \"xaxis\": {\"automargin\": true, \"gridcolor\": \"white\", \"linecolor\": \"white\", \"ticks\": \"\", \"title\": {\"standoff\": 15}, \"zerolinecolor\": \"white\", \"zerolinewidth\": 2}, \"yaxis\": {\"automargin\": true, \"gridcolor\": \"white\", \"linecolor\": \"white\", \"ticks\": \"\", \"title\": {\"standoff\": 15}, \"zerolinecolor\": \"white\", \"zerolinewidth\": 2}}}, \"title\": {\"text\": \"Percentage of women aged 20-24 who were married before age 15\"}},                        {\"responsive\": true}                    ).then(function(){\n",
       "                            \n",
       "var gd = document.getElementById('0e3e3b9d-94d5-4cd8-8e19-9ecca1491e2c');\n",
       "var x = new MutationObserver(function (mutations, observer) {{\n",
       "        var display = window.getComputedStyle(gd).display;\n",
       "        if (!display || display === 'none') {{\n",
       "            console.log([gd, 'removed!']);\n",
       "            Plotly.purge(gd);\n",
       "            observer.disconnect();\n",
       "        }}\n",
       "}});\n",
       "\n",
       "// Listen for the removal of the full notebook cells\n",
       "var notebookContainer = gd.closest('#notebook-container');\n",
       "if (notebookContainer) {{\n",
       "    x.observe(notebookContainer, {childList: true});\n",
       "}}\n",
       "\n",
       "// Listen for the clearing of the current output cell\n",
       "var outputEl = gd.closest('.output');\n",
       "if (outputEl) {{\n",
       "    x.observe(outputEl, {childList: true});\n",
       "}}\n",
       "\n",
       "                        })                };                });            </script>        </div>"
      ]
     },
     "metadata": {},
     "output_type": "display_data"
    }
   ],
   "source": [
    "fig = px.choropleth(fem, locations=\"Country\",\n",
    "                    color=\"Value\",\n",
    "                    locationmode=\"country names\",\n",
    "                    scope=\"africa\",\n",
    "                    title = \"Percentage of women aged 20-24 who were married before age 15\")\n",
    " \n",
    "fig.show()"
   ]
  },
  {
   "cell_type": "markdown",
   "metadata": {},
   "source": [
    ">* Here, we see clearly the distribution of the countries where early marriage is prevelant.\n",
    "\n",
    ">* For example we notice that in Chad nearly 30% of women have been subjected to Child early and forced marriage\n",
    "\n",
    ">* Though we cannot generalize the geographical location of the countries, we can however note that each of these countries share a common border.\n",
    "\n"
   ]
  },
  {
   "cell_type": "markdown",
   "metadata": {},
   "source": [
    "Below the next dataset represent Women and girls, aged 15-49, who have undergone some form of FGM (Female Genital Mutiliation)\n"
   ]
  },
  {
   "cell_type": "code",
   "execution_count": 16,
   "metadata": {},
   "outputs": [
    {
     "data": {
      "text/html": [
       "<div>\n",
       "<style scoped>\n",
       "    .dataframe tbody tr th:only-of-type {\n",
       "        vertical-align: middle;\n",
       "    }\n",
       "\n",
       "    .dataframe tbody tr th {\n",
       "        vertical-align: top;\n",
       "    }\n",
       "\n",
       "    .dataframe thead th {\n",
       "        text-align: right;\n",
       "    }\n",
       "</style>\n",
       "<table border=\"1\" class=\"dataframe\">\n",
       "  <thead>\n",
       "    <tr style=\"text-align: right;\">\n",
       "      <th></th>\n",
       "      <th>Pays</th>\n",
       "      <th>Valeur</th>\n",
       "    </tr>\n",
       "  </thead>\n",
       "  <tbody>\n",
       "    <tr>\n",
       "      <th>0</th>\n",
       "      <td>Burkina Faso</td>\n",
       "      <td>76</td>\n",
       "    </tr>\n",
       "    <tr>\n",
       "      <th>1</th>\n",
       "      <td>Djibouti</td>\n",
       "      <td>93</td>\n",
       "    </tr>\n",
       "    <tr>\n",
       "      <th>2</th>\n",
       "      <td>Egypte</td>\n",
       "      <td>91</td>\n",
       "    </tr>\n",
       "    <tr>\n",
       "      <th>3</th>\n",
       "      <td>Érythrée</td>\n",
       "      <td>89</td>\n",
       "    </tr>\n",
       "    <tr>\n",
       "      <th>4</th>\n",
       "      <td>Ethiopie</td>\n",
       "      <td>74</td>\n",
       "    </tr>\n",
       "  </tbody>\n",
       "</table>\n",
       "</div>"
      ],
      "text/plain": [
       "           Pays  Valeur\n",
       "0  Burkina Faso      76\n",
       "1      Djibouti      93\n",
       "2        Egypte      91\n",
       "3      Érythrée      89\n",
       "4      Ethiopie      74"
      ]
     },
     "execution_count": 16,
     "metadata": {},
     "output_type": "execute_result"
    }
   ],
   "source": [
    "fgm = pd.read_csv('FGM.csv')\n",
    "fgm.head()"
   ]
  },
  {
   "cell_type": "code",
   "execution_count": 17,
   "metadata": {
    "scrolled": false
   },
   "outputs": [
    {
     "data": {
      "image/png": "[encoded data removed]",
      "text/plain": [
       "<Figure size 720x576 with 1 Axes>"
      ]
     },
     "metadata": {},
     "output_type": "display_data"
    }
   ],
   "source": [
    "plt.figure(figsize=(10,8))\n",
    "plt.bar(fgm['Pays'],fgm['Valeur'])\n",
    "plt.xticks(rotation=90);\n",
    "plt.ylabel('Percentage')\n",
    "plt.xlabel('Countries')\n",
    "plt.title('Women and girls, aged 15-49, who have undergone some form of FGM')\n",
    "plt.show()"
   ]
  },
  {
   "cell_type": "code",
   "execution_count": 18,
   "metadata": {},
   "outputs": [
    {
     "data": {
      "application/vnd.plotly.v1+json": {
       "config": {
        "plotlyServerURL": "https://plot.ly"
       },
       "data": [
        {
         "coloraxis": "coloraxis",
         "geo": "geo",
         "hovertemplate": "Pays=%{location}<br>Valeur=%{z}<extra></extra>",
         "locationmode": "country names",
         "locations": [
          "Burkina Faso",
          "Djibouti",
          "Egypte",
          "Érythrée",
          "Ethiopie",
          "Guinée",
          "Gambie",
          "Kenya",
          "Mali",
          "Mauritanie",
          "Nigeria",
          "Soudan",
          "Sénégal",
          "Somalie",
          "Ouganda",
          "Yémen",
          "Guinée-Bissau"
         ],
         "name": "",
         "type": "choropleth",
         "z": [
          76,
          93,
          91,
          89,
          74,
          97,
          75,
          21,
          91,
          69,
          25,
          88,
          26,
          98,
          1,
          19,
          45
         ]
        }
       ],
       "layout": {
        "coloraxis": {
         "colorbar": {
          "title": {
           "text": "Valeur"
          }
         },
         "colorscale": [
          [
           0,
           "#0d0887"
          ],
          [
           0.1111111111111111,
           "#46039f"
          ],
          [
           0.2222222222222222,
           "#7201a8"
          ],
          [
           0.3333333333333333,
           "#9c179e"
          ],
          [
           0.4444444444444444,
           "#bd3786"
          ],
          [
           0.5555555555555556,
           "#d8576b"
          ],
          [
           0.6666666666666666,
           "#ed7953"
          ],
          [
           0.7777777777777778,
           "#fb9f3a"
          ],
          [
           0.8888888888888888,
           "#fdca26"
          ],
          [
           1,
           "#f0f921"
          ]
         ]
        },
        "geo": {
         "center": {},
         "domain": {
          "x": [
           0,
           1
          ],
          "y": [
           0,
           1
          ]
         },
         "scope": "africa"
        },
        "legend": {
         "tracegroupgap": 0
        },
        "template": {
         "data": {
          "bar": [
           {
            "error_x": {
             "color": "#2a3f5f"
            },
            "error_y": {
             "color": "#2a3f5f"
            },
            "marker": {
             "line": {
              "color": "#E5ECF6",
              "width": 0.5
             }
            },
            "type": "bar"
           }
          ],
          "barpolar": [
           {
            "marker": {
             "line": {
              "color": "#E5ECF6",
              "width": 0.5
             }
            },
            "type": "barpolar"
           }
          ],
          "carpet": [
           {
            "aaxis": {
             "endlinecolor": "#2a3f5f",
             "gridcolor": "white",
             "linecolor": "white",
             "minorgridcolor": "white",
             "startlinecolor": "#2a3f5f"
            },
            "baxis": {
             "endlinecolor": "#2a3f5f",
             "gridcolor": "white",
             "linecolor": "white",
             "minorgridcolor": "white",
             "startlinecolor": "#2a3f5f"
            },
            "type": "carpet"
           }
          ],
          "choropleth": [
           {
            "colorbar": {
             "outlinewidth": 0,
             "ticks": ""
            },
            "type": "choropleth"
           }
          ],
          "contour": [
           {
            "colorbar": {
             "outlinewidth": 0,
             "ticks": ""
            },
            "colorscale": [
             [
              0,
              "#0d0887"
             ],
             [
              0.1111111111111111,
              "#46039f"
             ],
             [
              0.2222222222222222,
              "#7201a8"
             ],
             [
              0.3333333333333333,
              "#9c179e"
             ],
             [
              0.4444444444444444,
              "#bd3786"
             ],
             [
              0.5555555555555556,
              "#d8576b"
             ],
             [
              0.6666666666666666,
              "#ed7953"
             ],
             [
              0.7777777777777778,
              "#fb9f3a"
             ],
             [
              0.8888888888888888,
              "#fdca26"
             ],
             [
              1,
              "#f0f921"
             ]
            ],
            "type": "contour"
           }
          ],
          "contourcarpet": [
           {
            "colorbar": {
             "outlinewidth": 0,
             "ticks": ""
            },
            "type": "contourcarpet"
           }
          ],
          "heatmap": [
           {
            "colorbar": {
             "outlinewidth": 0,
             "ticks": ""
            },
            "colorscale": [
             [
              0,
              "#0d0887"
             ],
             [
              0.1111111111111111,
              "#46039f"
             ],
             [
              0.2222222222222222,
              "#7201a8"
             ],
             [
              0.3333333333333333,
              "#9c179e"
             ],
             [
              0.4444444444444444,
              "#bd3786"
             ],
             [
              0.5555555555555556,
              "#d8576b"
             ],
             [
              0.6666666666666666,
              "#ed7953"
             ],
             [
              0.7777777777777778,
              "#fb9f3a"
             ],
             [
              0.8888888888888888,
              "#fdca26"
             ],
             [
              1,
              "#f0f921"
             ]
            ],
            "type": "heatmap"
           }
          ],
          "heatmapgl": [
           {
            "colorbar": {
             "outlinewidth": 0,
             "ticks": ""
            },
            "colorscale": [
             [
              0,
              "#0d0887"
             ],
             [
              0.1111111111111111,
              "#46039f"
             ],
             [
              0.2222222222222222,
              "#7201a8"
             ],
             [
              0.3333333333333333,
              "#9c179e"
             ],
             [
              0.4444444444444444,
              "#bd3786"
             ],
             [
              0.5555555555555556,
              "#d8576b"
             ],
             [
              0.6666666666666666,
              "#ed7953"
             ],
             [
              0.7777777777777778,
              "#fb9f3a"
             ],
             [
              0.8888888888888888,
              "#fdca26"
             ],
             [
              1,
              "#f0f921"
             ]
            ],
            "type": "heatmapgl"
           }
          ],
          "histogram": [
           {
            "marker": {
             "colorbar": {
              "outlinewidth": 0,
              "ticks": ""
             }
            },
            "type": "histogram"
           }
          ],
          "histogram2d": [
           {
            "colorbar": {
             "outlinewidth": 0,
             "ticks": ""
            },
            "colorscale": [
             [
              0,
              "#0d0887"
             ],
             [
              0.1111111111111111,
              "#46039f"
             ],
             [
              0.2222222222222222,
              "#7201a8"
             ],
             [
              0.3333333333333333,
              "#9c179e"
             ],
             [
              0.4444444444444444,
              "#bd3786"
             ],
             [
              0.5555555555555556,
              "#d8576b"
             ],
             [
              0.6666666666666666,
              "#ed7953"
             ],
             [
              0.7777777777777778,
              "#fb9f3a"
             ],
             [
              0.8888888888888888,
              "#fdca26"
             ],
             [
              1,
              "#f0f921"
             ]
            ],
            "type": "histogram2d"
           }
          ],
          "histogram2dcontour": [
           {
            "colorbar": {
             "outlinewidth": 0,
             "ticks": ""
            },
            "colorscale": [
             [
              0,
              "#0d0887"
             ],
             [
              0.1111111111111111,
              "#46039f"
             ],
             [
              0.2222222222222222,
              "#7201a8"
             ],
             [
              0.3333333333333333,
              "#9c179e"
             ],
             [
              0.4444444444444444,
              "#bd3786"
             ],
             [
              0.5555555555555556,
              "#d8576b"
             ],
             [
              0.6666666666666666,
              "#ed7953"
             ],
             [
              0.7777777777777778,
              "#fb9f3a"
             ],
             [
              0.8888888888888888,
              "#fdca26"
             ],
             [
              1,
              "#f0f921"
             ]
            ],
            "type": "histogram2dcontour"
           }
          ],
          "mesh3d": [
           {
            "colorbar": {
             "outlinewidth": 0,
             "ticks": ""
            },
            "type": "mesh3d"
           }
          ],
          "parcoords": [
           {
            "line": {
             "colorbar": {
              "outlinewidth": 0,
              "ticks": ""
             }
            },
            "type": "parcoords"
           }
          ],
          "pie": [
           {
            "automargin": true,
            "type": "pie"
           }
          ],
          "scatter": [
           {
            "marker": {
             "colorbar": {
              "outlinewidth": 0,
              "ticks": ""
             }
            },
            "type": "scatter"
           }
          ],
          "scatter3d": [
           {
            "line": {
             "colorbar": {
              "outlinewidth": 0,
              "ticks": ""
             }
            },
            "marker": {
             "colorbar": {
              "outlinewidth": 0,
              "ticks": ""
             }
            },
            "type": "scatter3d"
           }
          ],
          "scattercarpet": [
           {
            "marker": {
             "colorbar": {
              "outlinewidth": 0,
              "ticks": ""
             }
            },
            "type": "scattercarpet"
           }
          ],
          "scattergeo": [
           {
            "marker": {
             "colorbar": {
              "outlinewidth": 0,
              "ticks": ""
             }
            },
            "type": "scattergeo"
           }
          ],
          "scattergl": [
           {
            "marker": {
             "colorbar": {
              "outlinewidth": 0,
              "ticks": ""
             }
            },
            "type": "scattergl"
           }
          ],
          "scattermapbox": [
           {
            "marker": {
             "colorbar": {
              "outlinewidth": 0,
              "ticks": ""
             }
            },
            "type": "scattermapbox"
           }
          ],
          "scatterpolar": [
           {
            "marker": {
             "colorbar": {
              "outlinewidth": 0,
              "ticks": ""
             }
            },
            "type": "scatterpolar"
           }
          ],
          "scatterpolargl": [
           {
            "marker": {
             "colorbar": {
              "outlinewidth": 0,
              "ticks": ""
             }
            },
            "type": "scatterpolargl"
           }
          ],
          "scatterternary": [
           {
            "marker": {
             "colorbar": {
              "outlinewidth": 0,
              "ticks": ""
             }
            },
            "type": "scatterternary"
           }
          ],
          "surface": [
           {
            "colorbar": {
             "outlinewidth": 0,
             "ticks": ""
            },
            "colorscale": [
             [
              0,
              "#0d0887"
             ],
             [
              0.1111111111111111,
              "#46039f"
             ],
             [
              0.2222222222222222,
              "#7201a8"
             ],
             [
              0.3333333333333333,
              "#9c179e"
             ],
             [
              0.4444444444444444,
              "#bd3786"
             ],
             [
              0.5555555555555556,
              "#d8576b"
             ],
             [
              0.6666666666666666,
              "#ed7953"
             ],
             [
              0.7777777777777778,
              "#fb9f3a"
             ],
             [
              0.8888888888888888,
              "#fdca26"
             ],
             [
              1,
              "#f0f921"
             ]
            ],
            "type": "surface"
           }
          ],
          "table": [
           {
            "cells": {
             "fill": {
              "color": "#EBF0F8"
             },
             "line": {
              "color": "white"
             }
            },
            "header": {
             "fill": {
              "color": "#C8D4E3"
             },
             "line": {
              "color": "white"
             }
            },
            "type": "table"
           }
          ]
         },
         "layout": {
          "annotationdefaults": {
           "arrowcolor": "#2a3f5f",
           "arrowhead": 0,
           "arrowwidth": 1
          },
          "autotypenumbers": "strict",
          "coloraxis": {
           "colorbar": {
            "outlinewidth": 0,
            "ticks": ""
           }
          },
          "colorscale": {
           "diverging": [
            [
             0,
             "#8e0152"
            ],
            [
             0.1,
             "#c51b7d"
            ],
            [
             0.2,
             "#de77ae"
            ],
            [
             0.3,
             "#f1b6da"
            ],
            [
             0.4,
             "#fde0ef"
            ],
            [
             0.5,
             "#f7f7f7"
            ],
            [
             0.6,
             "#e6f5d0"
            ],
            [
             0.7,
             "#b8e186"
            ],
            [
             0.8,
             "#7fbc41"
            ],
            [
             0.9,
             "#4d9221"
            ],
            [
             1,
             "#276419"
            ]
           ],
           "sequential": [
            [
             0,
             "#0d0887"
            ],
            [
             0.1111111111111111,
             "#46039f"
            ],
            [
             0.2222222222222222,
             "#7201a8"
            ],
            [
             0.3333333333333333,
             "#9c179e"
            ],
            [
             0.4444444444444444,
             "#bd3786"
            ],
            [
             0.5555555555555556,
             "#d8576b"
            ],
            [
             0.6666666666666666,
             "#ed7953"
            ],
            [
             0.7777777777777778,
             "#fb9f3a"
            ],
            [
             0.8888888888888888,
             "#fdca26"
            ],
            [
             1,
             "#f0f921"
            ]
           ],
           "sequentialminus": [
            [
             0,
             "#0d0887"
            ],
            [
             0.1111111111111111,
             "#46039f"
            ],
            [
             0.2222222222222222,
             "#7201a8"
            ],
            [
             0.3333333333333333,
             "#9c179e"
            ],
            [
             0.4444444444444444,
             "#bd3786"
            ],
            [
             0.5555555555555556,
             "#d8576b"
            ],
            [
             0.6666666666666666,
             "#ed7953"
            ],
            [
             0.7777777777777778,
             "#fb9f3a"
            ],
            [
             0.8888888888888888,
             "#fdca26"
            ],
            [
             1,
             "#f0f921"
            ]
           ]
          },
          "colorway": [
           "#636efa",
           "#EF553B",
           "#00cc96",
           "#ab63fa",
           "#FFA15A",
           "#19d3f3",
           "#FF6692",
           "#B6E880",
           "#FF97FF",
           "#FECB52"
          ],
          "font": {
           "color": "#2a3f5f"
          },
          "geo": {
           "bgcolor": "white",
           "lakecolor": "white",
           "landcolor": "#E5ECF6",
           "showlakes": true,
           "showland": true,
           "subunitcolor": "white"
          },
          "hoverlabel": {
           "align": "left"
          },
          "hovermode": "closest",
          "mapbox": {
           "style": "light"
          },
          "paper_bgcolor": "white",
          "plot_bgcolor": "#E5ECF6",
          "polar": {
           "angularaxis": {
            "gridcolor": "white",
            "linecolor": "white",
            "ticks": ""
           },
           "bgcolor": "#E5ECF6",
           "radialaxis": {
            "gridcolor": "white",
            "linecolor": "white",
            "ticks": ""
           }
          },
          "scene": {
           "xaxis": {
            "backgroundcolor": "#E5ECF6",
            "gridcolor": "white",
            "gridwidth": 2,
            "linecolor": "white",
            "showbackground": true,
            "ticks": "",
            "zerolinecolor": "white"
           },
           "yaxis": {
            "backgroundcolor": "#E5ECF6",
            "gridcolor": "white",
            "gridwidth": 2,
            "linecolor": "white",
            "showbackground": true,
            "ticks": "",
            "zerolinecolor": "white"
           },
           "zaxis": {
            "backgroundcolor": "#E5ECF6",
            "gridcolor": "white",
            "gridwidth": 2,
            "linecolor": "white",
            "showbackground": true,
            "ticks": "",
            "zerolinecolor": "white"
           }
          },
          "shapedefaults": {
           "line": {
            "color": "#2a3f5f"
           }
          },
          "ternary": {
           "aaxis": {
            "gridcolor": "white",
            "linecolor": "white",
            "ticks": ""
           },
           "baxis": {
            "gridcolor": "white",
            "linecolor": "white",
            "ticks": ""
           },
           "bgcolor": "#E5ECF6",
           "caxis": {
            "gridcolor": "white",
            "linecolor": "white",
            "ticks": ""
           }
          },
          "title": {
           "x": 0.05
          },
          "xaxis": {
           "automargin": true,
           "gridcolor": "white",
           "linecolor": "white",
           "ticks": "",
           "title": {
            "standoff": 15
           },
           "zerolinecolor": "white",
           "zerolinewidth": 2
          },
          "yaxis": {
           "automargin": true,
           "gridcolor": "white",
           "linecolor": "white",
           "ticks": "",
           "title": {
            "standoff": 15
           },
           "zerolinecolor": "white",
           "zerolinewidth": 2
          }
         }
        },
        "title": {
         "text": "Women and girls, aged 15-49, who have undergone some form of FGM"
        }
       }
      },
      "text/html": [
       "<div>                            <div id=\"950fb075-c137-45d8-a1b4-21f65b3b6df5\" class=\"plotly-graph-div\" style=\"height:525px; width:100%;\"></div>            <script type=\"text/javascript\">                require([\"plotly\"], function(Plotly) {                    window.PLOTLYENV=window.PLOTLYENV || {};                                    if (document.getElementById(\"950fb075-c137-45d8-a1b4-21f65b3b6df5\")) {                    Plotly.newPlot(                        \"950fb075-c137-45d8-a1b4-21f65b3b6df5\",                        [{\"coloraxis\": \"coloraxis\", \"geo\": \"geo\", \"hovertemplate\": \"Pays=%{location}<br>Valeur=%{z}<extra></extra>\", \"locationmode\": \"country names\", \"locations\": [\"Burkina Faso\", \"Djibouti\", \"Egypte\", \"\\u00c9rythr\\u00e9e\", \"Ethiopie\", \"Guin\\u00e9e\", \"Gambie\", \"Kenya\", \"Mali\", \"Mauritanie\", \"Nigeria\", \"Soudan\", \"S\\u00e9n\\u00e9gal\", \"Somalie\", \"Ouganda\", \"Y\\u00e9men\", \"Guin\\u00e9e-Bissau\"], \"name\": \"\", \"type\": \"choropleth\", \"z\": [76, 93, 91, 89, 74, 97, 75, 21, 91, 69, 25, 88, 26, 98, 1, 19, 45]}],                        {\"coloraxis\": {\"colorbar\": {\"title\": {\"text\": \"Valeur\"}}, \"colorscale\": [[0.0, \"#0d0887\"], [0.1111111111111111, \"#46039f\"], [0.2222222222222222, \"#7201a8\"], [0.3333333333333333, \"#9c179e\"], [0.4444444444444444, \"#bd3786\"], [0.5555555555555556, \"#d8576b\"], [0.6666666666666666, \"#ed7953\"], [0.7777777777777778, \"#fb9f3a\"], [0.8888888888888888, \"#fdca26\"], [1.0, \"#f0f921\"]]}, \"geo\": {\"center\": {}, \"domain\": {\"x\": [0.0, 1.0], \"y\": [0.0, 1.0]}, \"scope\": \"africa\"}, \"legend\": {\"tracegroupgap\": 0}, \"template\": {\"data\": {\"bar\": [{\"error_x\": {\"color\": \"#2a3f5f\"}, \"error_y\": {\"color\": \"#2a3f5f\"}, \"marker\": {\"line\": {\"color\": \"#E5ECF6\", \"width\": 0.5}}, \"type\": \"bar\"}], \"barpolar\": [{\"marker\": {\"line\": {\"color\": \"#E5ECF6\", \"width\": 0.5}}, \"type\": \"barpolar\"}], \"carpet\": [{\"aaxis\": {\"endlinecolor\": \"#2a3f5f\", \"gridcolor\": \"white\", \"linecolor\": \"white\", \"minorgridcolor\": \"white\", \"startlinecolor\": \"#2a3f5f\"}, \"baxis\": {\"endlinecolor\": \"#2a3f5f\", \"gridcolor\": \"white\", \"linecolor\": \"white\", \"minorgridcolor\": \"white\", \"startlinecolor\": \"#2a3f5f\"}, \"type\": \"carpet\"}], \"choropleth\": [{\"colorbar\": {\"outlinewidth\": 0, \"ticks\": \"\"}, \"type\": \"choropleth\"}], \"contour\": [{\"colorbar\": {\"outlinewidth\": 0, \"ticks\": \"\"}, \"colorscale\": [[0.0, \"#0d0887\"], [0.1111111111111111, \"#46039f\"], [0.2222222222222222, \"#7201a8\"], [0.3333333333333333, \"#9c179e\"], [0.4444444444444444, \"#bd3786\"], [0.5555555555555556, \"#d8576b\"], [0.6666666666666666, \"#ed7953\"], [0.7777777777777778, \"#fb9f3a\"], [0.8888888888888888, \"#fdca26\"], [1.0, \"#f0f921\"]], \"type\": \"contour\"}], \"contourcarpet\": [{\"colorbar\": {\"outlinewidth\": 0, \"ticks\": \"\"}, \"type\": \"contourcarpet\"}], \"heatmap\": [{\"colorbar\": {\"outlinewidth\": 0, \"ticks\": \"\"}, \"colorscale\": [[0.0, \"#0d0887\"], [0.1111111111111111, \"#46039f\"], [0.2222222222222222, \"#7201a8\"], [0.3333333333333333, \"#9c179e\"], [0.4444444444444444, \"#bd3786\"], [0.5555555555555556, \"#d8576b\"], [0.6666666666666666, \"#ed7953\"], [0.7777777777777778, \"#fb9f3a\"], [0.8888888888888888, \"#fdca26\"], [1.0, \"#f0f921\"]], \"type\": \"heatmap\"}], \"heatmapgl\": [{\"colorbar\": {\"outlinewidth\": 0, \"ticks\": \"\"}, \"colorscale\": [[0.0, \"#0d0887\"], [0.1111111111111111, \"#46039f\"], [0.2222222222222222, \"#7201a8\"], [0.3333333333333333, \"#9c179e\"], [0.4444444444444444, \"#bd3786\"], [0.5555555555555556, \"#d8576b\"], [0.6666666666666666, \"#ed7953\"], [0.7777777777777778, \"#fb9f3a\"], [0.8888888888888888, \"#fdca26\"], [1.0, \"#f0f921\"]], \"type\": \"heatmapgl\"}], \"histogram\": [{\"marker\": {\"colorbar\": {\"outlinewidth\": 0, \"ticks\": \"\"}}, \"type\": \"histogram\"}], \"histogram2d\": [{\"colorbar\": {\"outlinewidth\": 0, \"ticks\": \"\"}, \"colorscale\": [[0.0, \"#0d0887\"], [0.1111111111111111, \"#46039f\"], [0.2222222222222222, \"#7201a8\"], [0.3333333333333333, \"#9c179e\"], [0.4444444444444444, \"#bd3786\"], [0.5555555555555556, \"#d8576b\"], [0.6666666666666666, \"#ed7953\"], [0.7777777777777778, \"#fb9f3a\"], [0.8888888888888888, \"#fdca26\"], [1.0, \"#f0f921\"]], \"type\": \"histogram2d\"}], \"histogram2dcontour\": [{\"colorbar\": {\"outlinewidth\": 0, \"ticks\": \"\"}, \"colorscale\": [[0.0, \"#0d0887\"], [0.1111111111111111, \"#46039f\"], [0.2222222222222222, \"#7201a8\"], [0.3333333333333333, \"#9c179e\"], [0.4444444444444444, \"#bd3786\"], [0.5555555555555556, \"#d8576b\"], [0.6666666666666666, \"#ed7953\"], [0.7777777777777778, \"#fb9f3a\"], [0.8888888888888888, \"#fdca26\"], [1.0, \"#f0f921\"]], \"type\": \"histogram2dcontour\"}], \"mesh3d\": [{\"colorbar\": {\"outlinewidth\": 0, \"ticks\": \"\"}, \"type\": \"mesh3d\"}], \"parcoords\": [{\"line\": {\"colorbar\": {\"outlinewidth\": 0, \"ticks\": \"\"}}, \"type\": \"parcoords\"}], \"pie\": [{\"automargin\": true, \"type\": \"pie\"}], \"scatter\": [{\"marker\": {\"colorbar\": {\"outlinewidth\": 0, \"ticks\": \"\"}}, \"type\": \"scatter\"}], \"scatter3d\": [{\"line\": {\"colorbar\": {\"outlinewidth\": 0, \"ticks\": \"\"}}, \"marker\": {\"colorbar\": {\"outlinewidth\": 0, \"ticks\": \"\"}}, \"type\": \"scatter3d\"}], \"scattercarpet\": [{\"marker\": {\"colorbar\": {\"outlinewidth\": 0, \"ticks\": \"\"}}, \"type\": \"scattercarpet\"}], \"scattergeo\": [{\"marker\": {\"colorbar\": {\"outlinewidth\": 0, \"ticks\": \"\"}}, \"type\": \"scattergeo\"}], \"scattergl\": [{\"marker\": {\"colorbar\": {\"outlinewidth\": 0, \"ticks\": \"\"}}, \"type\": \"scattergl\"}], \"scattermapbox\": [{\"marker\": {\"colorbar\": {\"outlinewidth\": 0, \"ticks\": \"\"}}, \"type\": \"scattermapbox\"}], \"scatterpolar\": [{\"marker\": {\"colorbar\": {\"outlinewidth\": 0, \"ticks\": \"\"}}, \"type\": \"scatterpolar\"}], \"scatterpolargl\": [{\"marker\": {\"colorbar\": {\"outlinewidth\": 0, \"ticks\": \"\"}}, \"type\": \"scatterpolargl\"}], \"scatterternary\": [{\"marker\": {\"colorbar\": {\"outlinewidth\": 0, \"ticks\": \"\"}}, \"type\": \"scatterternary\"}], \"surface\": [{\"colorbar\": {\"outlinewidth\": 0, \"ticks\": \"\"}, \"colorscale\": [[0.0, \"#0d0887\"], [0.1111111111111111, \"#46039f\"], [0.2222222222222222, \"#7201a8\"], [0.3333333333333333, \"#9c179e\"], [0.4444444444444444, \"#bd3786\"], [0.5555555555555556, \"#d8576b\"], [0.6666666666666666, \"#ed7953\"], [0.7777777777777778, \"#fb9f3a\"], [0.8888888888888888, \"#fdca26\"], [1.0, \"#f0f921\"]], \"type\": \"surface\"}], \"table\": [{\"cells\": {\"fill\": {\"color\": \"#EBF0F8\"}, \"line\": {\"color\": \"white\"}}, \"header\": {\"fill\": {\"color\": \"#C8D4E3\"}, \"line\": {\"color\": \"white\"}}, \"type\": \"table\"}]}, \"layout\": {\"annotationdefaults\": {\"arrowcolor\": \"#2a3f5f\", \"arrowhead\": 0, \"arrowwidth\": 1}, \"autotypenumbers\": \"strict\", \"coloraxis\": {\"colorbar\": {\"outlinewidth\": 0, \"ticks\": \"\"}}, \"colorscale\": {\"diverging\": [[0, \"#8e0152\"], [0.1, \"#c51b7d\"], [0.2, \"#de77ae\"], [0.3, \"#f1b6da\"], [0.4, \"#fde0ef\"], [0.5, \"#f7f7f7\"], [0.6, \"#e6f5d0\"], [0.7, \"#b8e186\"], [0.8, \"#7fbc41\"], [0.9, \"#4d9221\"], [1, \"#276419\"]], \"sequential\": [[0.0, \"#0d0887\"], [0.1111111111111111, \"#46039f\"], [0.2222222222222222, \"#7201a8\"], [0.3333333333333333, \"#9c179e\"], [0.4444444444444444, \"#bd3786\"], [0.5555555555555556, \"#d8576b\"], [0.6666666666666666, \"#ed7953\"], [0.7777777777777778, \"#fb9f3a\"], [0.8888888888888888, \"#fdca26\"], [1.0, \"#f0f921\"]], \"sequentialminus\": [[0.0, \"#0d0887\"], [0.1111111111111111, \"#46039f\"], [0.2222222222222222, \"#7201a8\"], [0.3333333333333333, \"#9c179e\"], [0.4444444444444444, \"#bd3786\"], [0.5555555555555556, \"#d8576b\"], [0.6666666666666666, \"#ed7953\"], [0.7777777777777778, \"#fb9f3a\"], [0.8888888888888888, \"#fdca26\"], [1.0, \"#f0f921\"]]}, \"colorway\": [\"#636efa\", \"#EF553B\", \"#00cc96\", \"#ab63fa\", \"#FFA15A\", \"#19d3f3\", \"#FF6692\", \"#B6E880\", \"#FF97FF\", \"#FECB52\"], \"font\": {\"color\": \"#2a3f5f\"}, \"geo\": {\"bgcolor\": \"white\", \"lakecolor\": \"white\", \"landcolor\": \"#E5ECF6\", \"showlakes\": true, \"showland\": true, \"subunitcolor\": \"white\"}, \"hoverlabel\": {\"align\": \"left\"}, \"hovermode\": \"closest\", \"mapbox\": {\"style\": \"light\"}, \"paper_bgcolor\": \"white\", \"plot_bgcolor\": \"#E5ECF6\", \"polar\": {\"angularaxis\": {\"gridcolor\": \"white\", \"linecolor\": \"white\", \"ticks\": \"\"}, \"bgcolor\": \"#E5ECF6\", \"radialaxis\": {\"gridcolor\": \"white\", \"linecolor\": \"white\", \"ticks\": \"\"}}, \"scene\": {\"xaxis\": {\"backgroundcolor\": \"#E5ECF6\", \"gridcolor\": \"white\", \"gridwidth\": 2, \"linecolor\": \"white\", \"showbackground\": true, \"ticks\": \"\", \"zerolinecolor\": \"white\"}, \"yaxis\": {\"backgroundcolor\": \"#E5ECF6\", \"gridcolor\": \"white\", \"gridwidth\": 2, \"linecolor\": \"white\", \"showbackground\": true, \"ticks\": \"\", \"zerolinecolor\": \"white\"}, \"zaxis\": {\"backgroundcolor\": \"#E5ECF6\", \"gridcolor\": \"white\", \"gridwidth\": 2, \"linecolor\": \"white\", \"showbackground\": true, \"ticks\": \"\", \"zerolinecolor\": \"white\"}}, \"shapedefaults\": {\"line\": {\"color\": \"#2a3f5f\"}}, \"ternary\": {\"aaxis\": {\"gridcolor\": \"white\", \"linecolor\": \"white\", \"ticks\": \"\"}, \"baxis\": {\"gridcolor\": \"white\", \"linecolor\": \"white\", \"ticks\": \"\"}, \"bgcolor\": \"#E5ECF6\", \"caxis\": {\"gridcolor\": \"white\", \"linecolor\": \"white\", \"ticks\": \"\"}}, \"title\": {\"x\": 0.05}, \"xaxis\": {\"automargin\": true, \"gridcolor\": \"white\", \"linecolor\": \"white\", \"ticks\": \"\", \"title\": {\"standoff\": 15}, \"zerolinecolor\": \"white\", \"zerolinewidth\": 2}, \"yaxis\": {\"automargin\": true, \"gridcolor\": \"white\", \"linecolor\": \"white\", \"ticks\": \"\", \"title\": {\"standoff\": 15}, \"zerolinecolor\": \"white\", \"zerolinewidth\": 2}}}, \"title\": {\"text\": \"Women and girls, aged 15-49, who have undergone some form of FGM\"}},                        {\"responsive\": true}                    ).then(function(){\n",
       "                            \n",
       "var gd = document.getElementById('950fb075-c137-45d8-a1b4-21f65b3b6df5');\n",
       "var x = new MutationObserver(function (mutations, observer) {{\n",
       "        var display = window.getComputedStyle(gd).display;\n",
       "        if (!display || display === 'none') {{\n",
       "            console.log([gd, 'removed!']);\n",
       "            Plotly.purge(gd);\n",
       "            observer.disconnect();\n",
       "        }}\n",
       "}});\n",
       "\n",
       "// Listen for the removal of the full notebook cells\n",
       "var notebookContainer = gd.closest('#notebook-container');\n",
       "if (notebookContainer) {{\n",
       "    x.observe(notebookContainer, {childList: true});\n",
       "}}\n",
       "\n",
       "// Listen for the clearing of the current output cell\n",
       "var outputEl = gd.closest('.output');\n",
       "if (outputEl) {{\n",
       "    x.observe(outputEl, {childList: true});\n",
       "}}\n",
       "\n",
       "                        })                };                });            </script>        </div>"
      ]
     },
     "metadata": {},
     "output_type": "display_data"
    }
   ],
   "source": [
    "fig = px.choropleth(fgm, locations=\"Pays\",\n",
    "                    color=\"Valeur\",\n",
    "                    locationmode=\"country names\",\n",
    "                    scope=\"africa\",\n",
    "                    title = \"Women and girls, aged 15-49, who have undergone some form of FGM\")\n",
    " \n",
    "fig.show()"
   ]
  },
  {
   "cell_type": "markdown",
   "metadata": {},
   "source": [
    "## Tweets Dataset"
   ]
  },
  {
   "cell_type": "markdown",
   "metadata": {},
   "source": [
    "### set 1"
   ]
  },
  {
   "cell_type": "code",
   "execution_count": 143,
   "metadata": {
    "scrolled": true
   },
   "outputs": [
    {
     "data": {
      "text/html": [
       "<div>\n",
       "<style scoped>\n",
       "    .dataframe tbody tr th:only-of-type {\n",
       "        vertical-align: middle;\n",
       "    }\n",
       "\n",
       "    .dataframe tbody tr th {\n",
       "        vertical-align: top;\n",
       "    }\n",
       "\n",
       "    .dataframe thead th {\n",
       "        text-align: right;\n",
       "    }\n",
       "</style>\n",
       "<table border=\"1\" class=\"dataframe\">\n",
       "  <thead>\n",
       "    <tr style=\"text-align: right;\">\n",
       "      <th></th>\n",
       "      <th>Unnamed: 0</th>\n",
       "      <th>Tweets</th>\n",
       "      <th>id</th>\n",
       "      <th>lens</th>\n",
       "      <th>date</th>\n",
       "      <th>place</th>\n",
       "      <th>coordinateS</th>\n",
       "      <th>lang</th>\n",
       "      <th>source</th>\n",
       "      <th>likes</th>\n",
       "      <th>retweets</th>\n",
       "    </tr>\n",
       "  </thead>\n",
       "  <tbody>\n",
       "    <tr>\n",
       "      <th>0</th>\n",
       "      <td>0</td>\n",
       "      <td>b'RT @odd_joker: #\\xe6\\x97\\xad\\xe5\\xb7\\x9d\\xe5...</td>\n",
       "      <td>1390783063920046080</td>\n",
       "      <td>140</td>\n",
       "      <td>2021-05-07 21:38:16</td>\n",
       "      <td>NaN</td>\n",
       "      <td>NaN</td>\n",
       "      <td>und</td>\n",
       "      <td>Twitter Web App</td>\n",
       "      <td>0</td>\n",
       "      <td>2</td>\n",
       "    </tr>\n",
       "    <tr>\n",
       "      <th>1</th>\n",
       "      <td>1</td>\n",
       "      <td>b'RT @GoogleExpertUK: @JenGwenBrown @WB_UK @NH...</td>\n",
       "      <td>1390782227089342464</td>\n",
       "      <td>140</td>\n",
       "      <td>2021-05-07 21:34:57</td>\n",
       "      <td>NaN</td>\n",
       "      <td>NaN</td>\n",
       "      <td>en</td>\n",
       "      <td>Twitter for Android</td>\n",
       "      <td>0</td>\n",
       "      <td>43</td>\n",
       "    </tr>\n",
       "    <tr>\n",
       "      <th>2</th>\n",
       "      <td>2</td>\n",
       "      <td>b'\\xe2\\x81\\xa6@JoeManchinWV\\xe2\\x81\\xa9 is rap...</td>\n",
       "      <td>1390782207061544961</td>\n",
       "      <td>183</td>\n",
       "      <td>2021-05-07 21:34:52</td>\n",
       "      <td>NaN</td>\n",
       "      <td>NaN</td>\n",
       "      <td>en</td>\n",
       "      <td>Twitter for iPhone</td>\n",
       "      <td>0</td>\n",
       "      <td>0</td>\n",
       "    </tr>\n",
       "    <tr>\n",
       "      <th>3</th>\n",
       "      <td>3</td>\n",
       "      <td>b'RT @GoogleExpertUK: @JenGwenBrown @WB_UK @NH...</td>\n",
       "      <td>1390781884439859209</td>\n",
       "      <td>140</td>\n",
       "      <td>2021-05-07 21:33:35</td>\n",
       "      <td>NaN</td>\n",
       "      <td>NaN</td>\n",
       "      <td>en</td>\n",
       "      <td>Twitter Web App</td>\n",
       "      <td>0</td>\n",
       "      <td>43</td>\n",
       "    </tr>\n",
       "    <tr>\n",
       "      <th>4</th>\n",
       "      <td>4</td>\n",
       "      <td>b'RT @JusticeOzzie: Ms Brittany Higgins : \\xe2...</td>\n",
       "      <td>1390780006435987456</td>\n",
       "      <td>140</td>\n",
       "      <td>2021-05-07 21:26:07</td>\n",
       "      <td>NaN</td>\n",
       "      <td>NaN</td>\n",
       "      <td>en</td>\n",
       "      <td>Twitter for Android</td>\n",
       "      <td>0</td>\n",
       "      <td>279</td>\n",
       "    </tr>\n",
       "  </tbody>\n",
       "</table>\n",
       "</div>"
      ],
      "text/plain": [
       "   Unnamed: 0                                             Tweets  \\\n",
       "0           0  b'RT @odd_joker: #\\xe6\\x97\\xad\\xe5\\xb7\\x9d\\xe5...   \n",
       "1           1  b'RT @GoogleExpertUK: @JenGwenBrown @WB_UK @NH...   \n",
       "2           2  b'\\xe2\\x81\\xa6@JoeManchinWV\\xe2\\x81\\xa9 is rap...   \n",
       "3           3  b'RT @GoogleExpertUK: @JenGwenBrown @WB_UK @NH...   \n",
       "4           4  b'RT @JusticeOzzie: Ms Brittany Higgins : \\xe2...   \n",
       "\n",
       "                    id  lens                 date place coordinateS lang  \\\n",
       "0  1390783063920046080   140  2021-05-07 21:38:16   NaN         NaN  und   \n",
       "1  1390782227089342464   140  2021-05-07 21:34:57   NaN         NaN   en   \n",
       "2  1390782207061544961   183  2021-05-07 21:34:52   NaN         NaN   en   \n",
       "3  1390781884439859209   140  2021-05-07 21:33:35   NaN         NaN   en   \n",
       "4  1390780006435987456   140  2021-05-07 21:26:07   NaN         NaN   en   \n",
       "\n",
       "                source  likes  retweets  \n",
       "0      Twitter Web App      0         2  \n",
       "1  Twitter for Android      0        43  \n",
       "2   Twitter for iPhone      0         0  \n",
       "3      Twitter Web App      0        43  \n",
       "4  Twitter for Android      0       279  "
      ]
     },
     "execution_count": 143,
     "metadata": {},
     "output_type": "execute_result"
    }
   ],
   "source": [
    "tweet_1 = pd.read_csv('tweets(1).csv')\n",
    "tweet_1.head()"
   ]
  },
  {
   "cell_type": "code",
   "execution_count": 6,
   "metadata": {
    "scrolled": true
   },
   "outputs": [
    {
     "data": {
      "text/plain": [
       "\"b'RT @ThePeoplesHubUK: @GoogleExpertUK @do_kinder @BullyingAlberta @DelusionalAcad1 @rossthomson26 @TruthsayerOdet1 @Suzanne_Garrett @MoriMah\\\\xe2\\\\x80\\\\xa6'\""
      ]
     },
     "execution_count": 6,
     "metadata": {},
     "output_type": "execute_result"
    }
   ],
   "source": [
    "tweet_1['Tweets'][20]"
   ]
  },
  {
   "cell_type": "markdown",
   "metadata": {},
   "source": [
    "### set 2"
   ]
  },
  {
   "cell_type": "code",
   "execution_count": 144,
   "metadata": {},
   "outputs": [
    {
     "data": {
      "text/html": [
       "<div>\n",
       "<style scoped>\n",
       "    .dataframe tbody tr th:only-of-type {\n",
       "        vertical-align: middle;\n",
       "    }\n",
       "\n",
       "    .dataframe tbody tr th {\n",
       "        vertical-align: top;\n",
       "    }\n",
       "\n",
       "    .dataframe thead th {\n",
       "        text-align: right;\n",
       "    }\n",
       "</style>\n",
       "<table border=\"1\" class=\"dataframe\">\n",
       "  <thead>\n",
       "    <tr style=\"text-align: right;\">\n",
       "      <th></th>\n",
       "      <th>Unnamed: 0</th>\n",
       "      <th>Tweets</th>\n",
       "      <th>id</th>\n",
       "      <th>lens</th>\n",
       "      <th>date</th>\n",
       "      <th>place</th>\n",
       "      <th>coordinates</th>\n",
       "      <th>lang</th>\n",
       "      <th>source</th>\n",
       "      <th>likes</th>\n",
       "      <th>retweets</th>\n",
       "    </tr>\n",
       "  </thead>\n",
       "  <tbody>\n",
       "    <tr>\n",
       "      <th>0</th>\n",
       "      <td>0</td>\n",
       "      <td>b'@DrMcKinn @MailOnline #SHOCKING \\n#Rape\\n\\n#...</td>\n",
       "      <td>1390818982899249155</td>\n",
       "      <td>102</td>\n",
       "      <td>2021-05-08 00:01:00</td>\n",
       "      <td>NaN</td>\n",
       "      <td>NaN</td>\n",
       "      <td>en</td>\n",
       "      <td>Twitter for Android</td>\n",
       "      <td>0</td>\n",
       "      <td>0</td>\n",
       "    </tr>\n",
       "    <tr>\n",
       "      <th>1</th>\n",
       "      <td>1</td>\n",
       "      <td>b'A total lack of surprise. #Morrison/#Berejik...</td>\n",
       "      <td>1390818602685632513</td>\n",
       "      <td>270</td>\n",
       "      <td>2021-05-07 23:59:29</td>\n",
       "      <td>NaN</td>\n",
       "      <td>NaN</td>\n",
       "      <td>en</td>\n",
       "      <td>Twitter for iPad</td>\n",
       "      <td>0</td>\n",
       "      <td>0</td>\n",
       "    </tr>\n",
       "    <tr>\n",
       "      <th>2</th>\n",
       "      <td>2</td>\n",
       "      <td>b'Desde su constituci\\xc3\\xb3n en el 2014, la ...</td>\n",
       "      <td>1390818178511654914</td>\n",
       "      <td>250</td>\n",
       "      <td>2021-05-07 23:57:48</td>\n",
       "      <td>NaN</td>\n",
       "      <td>NaN</td>\n",
       "      <td>es</td>\n",
       "      <td>Twitter for iPhone</td>\n",
       "      <td>0</td>\n",
       "      <td>0</td>\n",
       "    </tr>\n",
       "    <tr>\n",
       "      <th>3</th>\n",
       "      <td>3</td>\n",
       "      <td>b'RT @KaceyKells: KELLCEY \"This story not only...</td>\n",
       "      <td>1390814593992298496</td>\n",
       "      <td>140</td>\n",
       "      <td>2021-05-07 23:43:33</td>\n",
       "      <td>NaN</td>\n",
       "      <td>NaN</td>\n",
       "      <td>en</td>\n",
       "      <td>Twitter for iPhone</td>\n",
       "      <td>0</td>\n",
       "      <td>10366</td>\n",
       "    </tr>\n",
       "    <tr>\n",
       "      <th>4</th>\n",
       "      <td>4</td>\n",
       "      <td>b'RT @Justice4Stuart: Stuart and his Mum and N...</td>\n",
       "      <td>1390812197438246912</td>\n",
       "      <td>139</td>\n",
       "      <td>2021-05-07 23:34:02</td>\n",
       "      <td>NaN</td>\n",
       "      <td>NaN</td>\n",
       "      <td>en</td>\n",
       "      <td>Twitter for Android</td>\n",
       "      <td>0</td>\n",
       "      <td>3</td>\n",
       "    </tr>\n",
       "  </tbody>\n",
       "</table>\n",
       "</div>"
      ],
      "text/plain": [
       "   Unnamed: 0                                             Tweets  \\\n",
       "0           0  b'@DrMcKinn @MailOnline #SHOCKING \\n#Rape\\n\\n#...   \n",
       "1           1  b'A total lack of surprise. #Morrison/#Berejik...   \n",
       "2           2  b'Desde su constituci\\xc3\\xb3n en el 2014, la ...   \n",
       "3           3  b'RT @KaceyKells: KELLCEY \"This story not only...   \n",
       "4           4  b'RT @Justice4Stuart: Stuart and his Mum and N...   \n",
       "\n",
       "                    id  lens                 date place coordinates lang  \\\n",
       "0  1390818982899249155   102  2021-05-08 00:01:00   NaN         NaN   en   \n",
       "1  1390818602685632513   270  2021-05-07 23:59:29   NaN         NaN   en   \n",
       "2  1390818178511654914   250  2021-05-07 23:57:48   NaN         NaN   es   \n",
       "3  1390814593992298496   140  2021-05-07 23:43:33   NaN         NaN   en   \n",
       "4  1390812197438246912   139  2021-05-07 23:34:02   NaN         NaN   en   \n",
       "\n",
       "                source  likes  retweets  \n",
       "0  Twitter for Android      0         0  \n",
       "1     Twitter for iPad      0         0  \n",
       "2   Twitter for iPhone      0         0  \n",
       "3   Twitter for iPhone      0     10366  \n",
       "4  Twitter for Android      0         3  "
      ]
     },
     "execution_count": 144,
     "metadata": {},
     "output_type": "execute_result"
    }
   ],
   "source": [
    "tweet_2 = pd.read_csv('tweets.csv')\n",
    "tweet_2.head()"
   ]
  },
  {
   "cell_type": "code",
   "execution_count": 8,
   "metadata": {},
   "outputs": [
    {
     "data": {
      "text/plain": [
       "\"b'A total lack of surprise. #Morrison/#Berejiklian don\\\\xe2\\\\x80\\\\x99t surprise any more. They treat people who vote for the #lnp like sh%t and every day there is another sh%tty thing. Is anyone surprised that the legal prof still think woman dying in #dv or #rape is collateral damage?'\""
      ]
     },
     "execution_count": 8,
     "metadata": {},
     "output_type": "execute_result"
    }
   ],
   "source": [
    "tweet_2['Tweets'][1]"
   ]
  },
  {
   "cell_type": "markdown",
   "metadata": {},
   "source": [
    "### set 3"
   ]
  },
  {
   "cell_type": "code",
   "execution_count": 9,
   "metadata": {},
   "outputs": [
    {
     "data": {
      "text/html": [
       "<div>\n",
       "<style scoped>\n",
       "    .dataframe tbody tr th:only-of-type {\n",
       "        vertical-align: middle;\n",
       "    }\n",
       "\n",
       "    .dataframe tbody tr th {\n",
       "        vertical-align: top;\n",
       "    }\n",
       "\n",
       "    .dataframe thead th {\n",
       "        text-align: right;\n",
       "    }\n",
       "</style>\n",
       "<table border=\"1\" class=\"dataframe\">\n",
       "  <thead>\n",
       "    <tr style=\"text-align: right;\">\n",
       "      <th></th>\n",
       "      <th>tweet</th>\n",
       "      <th>type</th>\n",
       "      <th>semi_type</th>\n",
       "    </tr>\n",
       "  </thead>\n",
       "  <tbody>\n",
       "    <tr>\n",
       "      <th>0</th>\n",
       "      <td>Well, being the COMPLETE parasite that he is.....</td>\n",
       "      <td>sexual_violence</td>\n",
       "      <td>rape</td>\n",
       "    </tr>\n",
       "    <tr>\n",
       "      <th>1</th>\n",
       "      <td>I can't express how sad it makes me that there...</td>\n",
       "      <td>sexual_violence</td>\n",
       "      <td>rape</td>\n",
       "    </tr>\n",
       "    <tr>\n",
       "      <th>2</th>\n",
       "      <td>Dom raped the girl, David enabled it. By provi...</td>\n",
       "      <td>sexual_violence</td>\n",
       "      <td>rape</td>\n",
       "    </tr>\n",
       "    <tr>\n",
       "      <th>3</th>\n",
       "      <td>One prosecutor Magistrates courts at the Teddy...</td>\n",
       "      <td>sexual_violence</td>\n",
       "      <td>rape</td>\n",
       "    </tr>\n",
       "    <tr>\n",
       "      <th>4</th>\n",
       "      <td>Then she told me 2 drinks in she was barred ou...</td>\n",
       "      <td>sexual_violence</td>\n",
       "      <td>rape</td>\n",
       "    </tr>\n",
       "  </tbody>\n",
       "</table>\n",
       "</div>"
      ],
      "text/plain": [
       "                                               tweet             type  \\\n",
       "0  Well, being the COMPLETE parasite that he is.....  sexual_violence   \n",
       "1  I can't express how sad it makes me that there...  sexual_violence   \n",
       "2  Dom raped the girl, David enabled it. By provi...  sexual_violence   \n",
       "3  One prosecutor Magistrates courts at the Teddy...  sexual_violence   \n",
       "4  Then she told me 2 drinks in she was barred ou...  sexual_violence   \n",
       "\n",
       "  semi_type  \n",
       "0      rape  \n",
       "1      rape  \n",
       "2      rape  \n",
       "3      rape  \n",
       "4      rape  "
      ]
     },
     "execution_count": 9,
     "metadata": {},
     "output_type": "execute_result"
    }
   ],
   "source": [
    "tweet_3 = pd.read_csv('Tweets.csv')\n",
    "tweet_3.head()"
   ]
  },
  {
   "cell_type": "code",
   "execution_count": 10,
   "metadata": {},
   "outputs": [
    {
     "data": {
      "text/plain": [
       "\"I can't express how sad it makes me that there are 100s of 1000s of vets &amp; wannabes who've forgotten the core of who we are.  An elderly friend was wrapped in barbed wire while Vietcong raped his wife. No reminder of who he's been his whole life breaks the Trump brainwashing.\""
      ]
     },
     "execution_count": 10,
     "metadata": {},
     "output_type": "execute_result"
    }
   ],
   "source": [
    "tweet_3['tweet'][1]"
   ]
  },
  {
   "cell_type": "code",
   "execution_count": 11,
   "metadata": {
    "scrolled": true
   },
   "outputs": [
    {
     "data": {
      "text/plain": [
       "sexual_violence                 32660\n",
       "Physical_violence                5946\n",
       "emotional_violence                651\n",
       "economic_violence                 217\n",
       "Harmful_Traditional_practice      188\n",
       "Name: type, dtype: int64"
      ]
     },
     "execution_count": 11,
     "metadata": {},
     "output_type": "execute_result"
    }
   ],
   "source": [
    "tweet_3['type'].value_counts()"
   ]
  },
  {
   "cell_type": "markdown",
   "metadata": {},
   "source": [
    ">* for this case we also notice that sexual violence  is the dominant stream"
   ]
  },
  {
   "cell_type": "code",
   "execution_count": 15,
   "metadata": {
    "scrolled": false
   },
   "outputs": [
    {
     "data": {
      "image/png": "[encoded data removed]",
      "text/plain": [
       "<Figure size 720x360 with 1 Axes>"
      ]
     },
     "metadata": {},
     "output_type": "display_data"
    }
   ],
   "source": [
    "fig = plt.figure(figsize = (10, 5))\n",
    "plt.bar(tweet_3['type'], tweet_3['semi_type'], width = 0.4)\n",
    "plt.xlabel(\"type of violence\")\n",
    "plt.ylabel(\"semi_type of violence\")\n",
    "plt.xticks(rotation=90);\n",
    "plt.show()"
   ]
  },
  {
   "cell_type": "markdown",
   "metadata": {},
   "source": [
    "### set4"
   ]
  },
  {
   "cell_type": "code",
   "execution_count": 90,
   "metadata": {},
   "outputs": [
    {
     "data": {
      "text/html": [
       "<div>\n",
       "<style scoped>\n",
       "    .dataframe tbody tr th:only-of-type {\n",
       "        vertical-align: middle;\n",
       "    }\n",
       "\n",
       "    .dataframe tbody tr th {\n",
       "        vertical-align: top;\n",
       "    }\n",
       "\n",
       "    .dataframe thead th {\n",
       "        text-align: right;\n",
       "    }\n",
       "</style>\n",
       "<table border=\"1\" class=\"dataframe\">\n",
       "  <thead>\n",
       "    <tr style=\"text-align: right;\">\n",
       "      <th></th>\n",
       "      <th>Unnamed: 0</th>\n",
       "      <th>Time_Zone</th>\n",
       "      <th>Date</th>\n",
       "      <th>Tweets_tag</th>\n",
       "    </tr>\n",
       "  </thead>\n",
       "  <tbody>\n",
       "    <tr>\n",
       "      <th>0</th>\n",
       "      <td>0</td>\n",
       "      <td>Central Africa Standard Time\\t</td>\n",
       "      <td>2021-05-07</td>\n",
       "      <td>\\t\\tIn preventing #VAW, it is necessary to und...</td>\n",
       "    </tr>\n",
       "    <tr>\n",
       "      <th>1</th>\n",
       "      <td>1</td>\n",
       "      <td>Central Africa Standard Time\\t</td>\n",
       "      <td>2021-05-06</td>\n",
       "      <td>\\t\\tRT @SamaritanOrgan1: @GBVnet @WIIS_HoA Eve...</td>\n",
       "    </tr>\n",
       "    <tr>\n",
       "      <th>2</th>\n",
       "      <td>2</td>\n",
       "      <td>Central Africa Standard Time\\t</td>\n",
       "      <td>2021-05-06</td>\n",
       "      <td>\\t\\tRT @KobugabeLucky: This was such an aspira...</td>\n",
       "    </tr>\n",
       "    <tr>\n",
       "      <th>3</th>\n",
       "      <td>3</td>\n",
       "      <td>Central Africa Standard Time\\t</td>\n",
       "      <td>2021-05-06</td>\n",
       "      <td>\\t\\tRT @aj_emurwon: Wrote A Family Meeting, a ...</td>\n",
       "    </tr>\n",
       "    <tr>\n",
       "      <th>4</th>\n",
       "      <td>4</td>\n",
       "      <td>Central Africa Standard Time\\t</td>\n",
       "      <td>2021-05-06</td>\n",
       "      <td>\\t\\tRT @YfcUganda: Why is it Dangerous? Victim...</td>\n",
       "    </tr>\n",
       "  </tbody>\n",
       "</table>\n",
       "</div>"
      ],
      "text/plain": [
       "   Unnamed: 0                       Time_Zone         Date  \\\n",
       "0           0   Central Africa Standard Time\\t  2021-05-07   \n",
       "1           1   Central Africa Standard Time\\t  2021-05-06   \n",
       "2           2   Central Africa Standard Time\\t  2021-05-06   \n",
       "3           3   Central Africa Standard Time\\t  2021-05-06   \n",
       "4           4   Central Africa Standard Time\\t  2021-05-06   \n",
       "\n",
       "                                          Tweets_tag  \n",
       "0  \\t\\tIn preventing #VAW, it is necessary to und...  \n",
       "1  \\t\\tRT @SamaritanOrgan1: @GBVnet @WIIS_HoA Eve...  \n",
       "2  \\t\\tRT @KobugabeLucky: This was such an aspira...  \n",
       "3  \\t\\tRT @aj_emurwon: Wrote A Family Meeting, a ...  \n",
       "4  \\t\\tRT @YfcUganda: Why is it Dangerous? Victim...  "
      ]
     },
     "execution_count": 90,
     "metadata": {},
     "output_type": "execute_result"
    }
   ],
   "source": [
    "gbv = pd.read_csv('GBV_Prevention_Net.csv')\n",
    "gbv.head()"
   ]
  },
  {
   "cell_type": "code",
   "execution_count": 91,
   "metadata": {},
   "outputs": [
    {
     "data": {
      "text/plain": [
       "\"\\t\\tIn preventing #VAW, it is necessary to understand and recognize the role of patriarchy in violence against women and girls. Unequal power relations lead to a culture of male dominance, and violence against women is used as a tool for ensuring that this dominance is preserved  https://t.co/TW3KzjnK6I\\ten\\t[]\\t[]\\t[]\\t0\\t23\\t37\\t['vaw']\\t[]\\thttps://twitter.com/GBVnet/status/1390525839419269124\\tFalse\\t0\\t1\\thttps://pbs.twimg.com/ext_tw_video_thumb/1390525809300017153/pu/img/Ff4XGwEI2MCq3WGn.jpg\\t\\t\\t\\t\\t\\t\\t[]\""
      ]
     },
     "execution_count": 91,
     "metadata": {},
     "output_type": "execute_result"
    }
   ],
   "source": [
    "gbv['Tweets_tag'][0]"
   ]
  },
  {
   "cell_type": "markdown",
   "metadata": {},
   "source": [
    "## Here we will try to perfom sentiment analysis in order to qualifie the type of tweets"
   ]
  },
  {
   "cell_type": "markdown",
   "metadata": {},
   "source": [
    "### Remove the hashtags, mentions and unwanted characters"
   ]
  },
  {
   "cell_type": "code",
   "execution_count": 94,
   "metadata": {},
   "outputs": [],
   "source": [
    "def clean_text(text):\n",
    "    text = text.lower()\n",
    "    text = text.replace('\\n', ' ').replace('\\r', '')\n",
    "    text = ' '.join(text.split())\n",
    "    text = re.sub(r\"[A-Za-z\\.]*[0-9]+[A-Za-z%°\\.]*\", \"\", text)\n",
    "    text = re.sub(r\"(\\s\\-\\s|-$)\", \"\", text)\n",
    "    text = re.sub(r\"[,\\!\\?\\%\\(\\)\\/\\\"]\", \"\", text)\n",
    "    text = re.sub(r\"\\&\\S*\\s\", \"\", text)\n",
    "    text = re.sub(r\"\\&\", \"\", text)\n",
    "    text = re.sub(r\"\\+\", \"\", text)\n",
    "    text = re.sub(r\"\\#\", \"\", text)\n",
    "    text = re.sub(r\"\\$\", \"\", text)\n",
    "    text = re.sub(r\"\\£\", \"\", text)\n",
    "    text = re.sub(r\"\\%\", \"\", text)\n",
    "    text = re.sub(r\"\\:\", \"\", text)\n",
    "    text = re.sub(r\"\\@\", \"\", text)\n",
    "    text = re.sub(r\"\\-\", \"\", text)\n",
    "    text = re.sub(r'\\\\', '', text)\n",
    "    text = re.sub(r\"'\", '', text)\n",
    "    text   = re.sub(r'http?:.*$', '', text)\n",
    "    text   = re.sub(r'https?:.*$', '', text)\n",
    "    text   = re.sub(r'pic?.*\\/\\w*', '', text)\n",
    "    text   = re.sub(r'[' + string.punctuation + ']+', ' ', text)  # Remove puncutations like 's\n",
    "    \n",
    "\n",
    "    return text"
   ]
  },
  {
   "cell_type": "code",
   "execution_count": 95,
   "metadata": {
    "scrolled": true
   },
   "outputs": [
    {
     "data": {
      "text/html": [
       "<div>\n",
       "<style scoped>\n",
       "    .dataframe tbody tr th:only-of-type {\n",
       "        vertical-align: middle;\n",
       "    }\n",
       "\n",
       "    .dataframe tbody tr th {\n",
       "        vertical-align: top;\n",
       "    }\n",
       "\n",
       "    .dataframe thead th {\n",
       "        text-align: right;\n",
       "    }\n",
       "</style>\n",
       "<table border=\"1\" class=\"dataframe\">\n",
       "  <thead>\n",
       "    <tr style=\"text-align: right;\">\n",
       "      <th></th>\n",
       "      <th>Unnamed: 0</th>\n",
       "      <th>Time_Zone</th>\n",
       "      <th>Date</th>\n",
       "      <th>Tweets_tag</th>\n",
       "      <th>Tweets_clean</th>\n",
       "    </tr>\n",
       "  </thead>\n",
       "  <tbody>\n",
       "    <tr>\n",
       "      <th>0</th>\n",
       "      <td>0</td>\n",
       "      <td>Central Africa Standard Time\\t</td>\n",
       "      <td>2021-05-07</td>\n",
       "      <td>\\t\\tIn preventing #VAW, it is necessary to und...</td>\n",
       "      <td>in preventing vaw it is necessary to understan...</td>\n",
       "    </tr>\n",
       "    <tr>\n",
       "      <th>1</th>\n",
       "      <td>1</td>\n",
       "      <td>Central Africa Standard Time\\t</td>\n",
       "      <td>2021-05-06</td>\n",
       "      <td>\\t\\tRT @SamaritanOrgan1: @GBVnet @WIIS_HoA Eve...</td>\n",
       "      <td>rt  gbvnet wiis hoa every day  we live by our ...</td>\n",
       "    </tr>\n",
       "    <tr>\n",
       "      <th>2</th>\n",
       "      <td>2</td>\n",
       "      <td>Central Africa Standard Time\\t</td>\n",
       "      <td>2021-05-06</td>\n",
       "      <td>\\t\\tRT @KobugabeLucky: This was such an aspira...</td>\n",
       "      <td>rt kobugabelucky this was such an aspirational...</td>\n",
       "    </tr>\n",
       "    <tr>\n",
       "      <th>3</th>\n",
       "      <td>3</td>\n",
       "      <td>Central Africa Standard Time\\t</td>\n",
       "      <td>2021-05-06</td>\n",
       "      <td>\\t\\tRT @aj_emurwon: Wrote A Family Meeting, a ...</td>\n",
       "      <td>rt aj emurwon wrote a family meeting a short s...</td>\n",
       "    </tr>\n",
       "    <tr>\n",
       "      <th>4</th>\n",
       "      <td>4</td>\n",
       "      <td>Central Africa Standard Time\\t</td>\n",
       "      <td>2021-05-06</td>\n",
       "      <td>\\t\\tRT @YfcUganda: Why is it Dangerous? Victim...</td>\n",
       "      <td>rt yfcuganda why is it dangerous victimblaming...</td>\n",
       "    </tr>\n",
       "    <tr>\n",
       "      <th>...</th>\n",
       "      <td>...</td>\n",
       "      <td>...</td>\n",
       "      <td>...</td>\n",
       "      <td>...</td>\n",
       "      <td>...</td>\n",
       "    </tr>\n",
       "    <tr>\n",
       "      <th>3237</th>\n",
       "      <td>3237</td>\n",
       "      <td>Central Africa Standard Time\\t</td>\n",
       "      <td>2019-08-15</td>\n",
       "      <td>\\t\\tRT @MAKEDAComms: Adelaide Casely-Hayford p...</td>\n",
       "      <td>rt makedacomms adelaide caselyhayford played a...</td>\n",
       "    </tr>\n",
       "    <tr>\n",
       "      <th>3238</th>\n",
       "      <td>3238</td>\n",
       "      <td>Central Africa Standard Time\\t</td>\n",
       "      <td>2019-08-15</td>\n",
       "      <td>\\t\\tRT @MAKEDAComms: Mekatilili wa Menza was a...</td>\n",
       "      <td>rt makedacomms mekatilili wa menza was a kenya...</td>\n",
       "    </tr>\n",
       "    <tr>\n",
       "      <th>3239</th>\n",
       "      <td>3239</td>\n",
       "      <td>Central Africa Standard Time\\t</td>\n",
       "      <td>2019-08-15</td>\n",
       "      <td>\\t\\tRT @MAKEDAComms: In this essay for @AAIHS,...</td>\n",
       "      <td>rt makedacomms in this essay for aaihs jaimees...</td>\n",
       "    </tr>\n",
       "    <tr>\n",
       "      <th>3240</th>\n",
       "      <td>3240</td>\n",
       "      <td>Central Africa Standard Time\\t</td>\n",
       "      <td>2019-08-15</td>\n",
       "      <td>\\t\\tRT @MAKEDAComms: Feminism is not foreign t...</td>\n",
       "      <td>rt makedacomms feminism is not foreign to afri...</td>\n",
       "    </tr>\n",
       "    <tr>\n",
       "      <th>3241</th>\n",
       "      <td>3241</td>\n",
       "      <td>Central Africa Standard Time\\t</td>\n",
       "      <td>2019-08-15</td>\n",
       "      <td>\\t\\tRT @sisiogelagos: Nigerian women got A mes...</td>\n",
       "      <td>rt sisiogelagos nigerian women got a message f...</td>\n",
       "    </tr>\n",
       "  </tbody>\n",
       "</table>\n",
       "<p>3242 rows × 5 columns</p>\n",
       "</div>"
      ],
      "text/plain": [
       "      Unnamed: 0                       Time_Zone         Date  \\\n",
       "0              0   Central Africa Standard Time\\t  2021-05-07   \n",
       "1              1   Central Africa Standard Time\\t  2021-05-06   \n",
       "2              2   Central Africa Standard Time\\t  2021-05-06   \n",
       "3              3   Central Africa Standard Time\\t  2021-05-06   \n",
       "4              4   Central Africa Standard Time\\t  2021-05-06   \n",
       "...          ...                              ...         ...   \n",
       "3237        3237   Central Africa Standard Time\\t  2019-08-15   \n",
       "3238        3238   Central Africa Standard Time\\t  2019-08-15   \n",
       "3239        3239   Central Africa Standard Time\\t  2019-08-15   \n",
       "3240        3240   Central Africa Standard Time\\t  2019-08-15   \n",
       "3241        3241   Central Africa Standard Time\\t  2019-08-15   \n",
       "\n",
       "                                             Tweets_tag  \\\n",
       "0     \\t\\tIn preventing #VAW, it is necessary to und...   \n",
       "1     \\t\\tRT @SamaritanOrgan1: @GBVnet @WIIS_HoA Eve...   \n",
       "2     \\t\\tRT @KobugabeLucky: This was such an aspira...   \n",
       "3     \\t\\tRT @aj_emurwon: Wrote A Family Meeting, a ...   \n",
       "4     \\t\\tRT @YfcUganda: Why is it Dangerous? Victim...   \n",
       "...                                                 ...   \n",
       "3237  \\t\\tRT @MAKEDAComms: Adelaide Casely-Hayford p...   \n",
       "3238  \\t\\tRT @MAKEDAComms: Mekatilili wa Menza was a...   \n",
       "3239  \\t\\tRT @MAKEDAComms: In this essay for @AAIHS,...   \n",
       "3240  \\t\\tRT @MAKEDAComms: Feminism is not foreign t...   \n",
       "3241  \\t\\tRT @sisiogelagos: Nigerian women got A mes...   \n",
       "\n",
       "                                           Tweets_clean  \n",
       "0     in preventing vaw it is necessary to understan...  \n",
       "1     rt  gbvnet wiis hoa every day  we live by our ...  \n",
       "2     rt kobugabelucky this was such an aspirational...  \n",
       "3     rt aj emurwon wrote a family meeting a short s...  \n",
       "4     rt yfcuganda why is it dangerous victimblaming...  \n",
       "...                                                 ...  \n",
       "3237  rt makedacomms adelaide caselyhayford played a...  \n",
       "3238  rt makedacomms mekatilili wa menza was a kenya...  \n",
       "3239  rt makedacomms in this essay for aaihs jaimees...  \n",
       "3240  rt makedacomms feminism is not foreign to afri...  \n",
       "3241  rt sisiogelagos nigerian women got a message f...  \n",
       "\n",
       "[3242 rows x 5 columns]"
      ]
     },
     "execution_count": 95,
     "metadata": {},
     "output_type": "execute_result"
    }
   ],
   "source": [
    "gbv['Tweets_clean']=gbv['Tweets_tag'].map(lambda X: clean_text(X))\n",
    "gbv.head()"
   ]
  },
  {
   "cell_type": "markdown",
   "metadata": {},
   "source": [
    "### Lemmatization and tokenization"
   ]
  },
  {
   "cell_type": "code",
   "execution_count": 96,
   "metadata": {},
   "outputs": [],
   "source": [
    "sw = stopwords.words('english')\n",
    "lemma = WordNetLemmatizer()"
   ]
  },
  {
   "cell_type": "code",
   "execution_count": 97,
   "metadata": {},
   "outputs": [],
   "source": [
    "def clean_text_and_tokenize(line):\n",
    "    tokens = TweetTokenizer(strip_handles=True, reduce_len=True).tokenize(line)\n",
    "    tokens = [w.lower() for w in tokens if w not in sw and len(w) > 2 and w.isalpha()]\n",
    "    tokens = [lemma.lemmatize(word) for word in tokens]\n",
    "    \n",
    "    return tokens"
   ]
  },
  {
   "cell_type": "code",
   "execution_count": 98,
   "metadata": {
    "scrolled": false
   },
   "outputs": [
    {
     "data": {
      "text/html": [
       "<div>\n",
       "<style scoped>\n",
       "    .dataframe tbody tr th:only-of-type {\n",
       "        vertical-align: middle;\n",
       "    }\n",
       "\n",
       "    .dataframe tbody tr th {\n",
       "        vertical-align: top;\n",
       "    }\n",
       "\n",
       "    .dataframe thead th {\n",
       "        text-align: right;\n",
       "    }\n",
       "</style>\n",
       "<table border=\"1\" class=\"dataframe\">\n",
       "  <thead>\n",
       "    <tr style=\"text-align: right;\">\n",
       "      <th></th>\n",
       "      <th>Unnamed: 0</th>\n",
       "      <th>Time_Zone</th>\n",
       "      <th>Date</th>\n",
       "      <th>Tweets_tag</th>\n",
       "      <th>Tweets_clean</th>\n",
       "      <th>Tweets_clean_tokenize</th>\n",
       "    </tr>\n",
       "  </thead>\n",
       "  <tbody>\n",
       "    <tr>\n",
       "      <th>0</th>\n",
       "      <td>0</td>\n",
       "      <td>Central Africa Standard Time\\t</td>\n",
       "      <td>2021-05-07</td>\n",
       "      <td>\\t\\tIn preventing #VAW, it is necessary to und...</td>\n",
       "      <td>in preventing vaw it is necessary to understan...</td>\n",
       "      <td>[preventing, necessary, understand, recognize,...</td>\n",
       "    </tr>\n",
       "    <tr>\n",
       "      <th>1</th>\n",
       "      <td>1</td>\n",
       "      <td>Central Africa Standard Time\\t</td>\n",
       "      <td>2021-05-06</td>\n",
       "      <td>\\t\\tRT @SamaritanOrgan1: @GBVnet @WIIS_HoA Eve...</td>\n",
       "      <td>rt  gbvnet wiis hoa every day  we live by our ...</td>\n",
       "      <td>[every, day, live, leading, grassroot, organis...</td>\n",
       "    </tr>\n",
       "    <tr>\n",
       "      <th>2</th>\n",
       "      <td>2</td>\n",
       "      <td>Central Africa Standard Time\\t</td>\n",
       "      <td>2021-05-06</td>\n",
       "      <td>\\t\\tRT @KobugabeLucky: This was such an aspira...</td>\n",
       "      <td>rt kobugabelucky this was such an aspirational...</td>\n",
       "      <td>[this, aspirational, read, canâ, wait, convers...</td>\n",
       "    </tr>\n",
       "    <tr>\n",
       "      <th>3</th>\n",
       "      <td>3</td>\n",
       "      <td>Central Africa Standard Time\\t</td>\n",
       "      <td>2021-05-06</td>\n",
       "      <td>\\t\\tRT @aj_emurwon: Wrote A Family Meeting, a ...</td>\n",
       "      <td>rt aj emurwon wrote a family meeting a short s...</td>\n",
       "      <td>[wrote, family, meeting, short, story, imago, ...</td>\n",
       "    </tr>\n",
       "    <tr>\n",
       "      <th>4</th>\n",
       "      <td>4</td>\n",
       "      <td>Central Africa Standard Time\\t</td>\n",
       "      <td>2021-05-06</td>\n",
       "      <td>\\t\\tRT @YfcUganda: Why is it Dangerous? Victim...</td>\n",
       "      <td>rt yfcuganda why is it dangerous victimblaming...</td>\n",
       "      <td>[why, dangerous, attitude, marginalize, victim...</td>\n",
       "    </tr>\n",
       "    <tr>\n",
       "      <th>...</th>\n",
       "      <td>...</td>\n",
       "      <td>...</td>\n",
       "      <td>...</td>\n",
       "      <td>...</td>\n",
       "      <td>...</td>\n",
       "      <td>...</td>\n",
       "    </tr>\n",
       "    <tr>\n",
       "      <th>3237</th>\n",
       "      <td>3237</td>\n",
       "      <td>Central Africa Standard Time\\t</td>\n",
       "      <td>2019-08-15</td>\n",
       "      <td>\\t\\tRT @MAKEDAComms: Adelaide Casely-Hayford p...</td>\n",
       "      <td>rt makedacomms adelaide caselyhayford played a...</td>\n",
       "      <td>[adelaide, played, important, role, advocating...</td>\n",
       "    </tr>\n",
       "    <tr>\n",
       "      <th>3238</th>\n",
       "      <td>3238</td>\n",
       "      <td>Central Africa Standard Time\\t</td>\n",
       "      <td>2019-08-15</td>\n",
       "      <td>\\t\\tRT @MAKEDAComms: Mekatilili wa Menza was a...</td>\n",
       "      <td>rt makedacomms mekatilili wa menza was a kenya...</td>\n",
       "      <td>[mekatilili, menza, kenyan, woman, leader, led...</td>\n",
       "    </tr>\n",
       "    <tr>\n",
       "      <th>3239</th>\n",
       "      <td>3239</td>\n",
       "      <td>Central Africa Standard Time\\t</td>\n",
       "      <td>2019-08-15</td>\n",
       "      <td>\\t\\tRT @MAKEDAComms: In this essay for @AAIHS,...</td>\n",
       "      <td>rt makedacomms in this essay for aaihs jaimees...</td>\n",
       "      <td>[essay, chronicle, african, political, mobiliz...</td>\n",
       "    </tr>\n",
       "    <tr>\n",
       "      <th>3240</th>\n",
       "      <td>3240</td>\n",
       "      <td>Central Africa Standard Time\\t</td>\n",
       "      <td>2019-08-15</td>\n",
       "      <td>\\t\\tRT @MAKEDAComms: Feminism is not foreign t...</td>\n",
       "      <td>rt makedacomms feminism is not foreign to afri...</td>\n",
       "      <td>[feminism, foreign, africa, for, century, afri...</td>\n",
       "    </tr>\n",
       "    <tr>\n",
       "      <th>3241</th>\n",
       "      <td>3241</td>\n",
       "      <td>Central Africa Standard Time\\t</td>\n",
       "      <td>2019-08-15</td>\n",
       "      <td>\\t\\tRT @sisiogelagos: Nigerian women got A mes...</td>\n",
       "      <td>rt sisiogelagos nigerian women got a message f...</td>\n",
       "      <td>[nigerian, woman, got, message, rapist, societ...</td>\n",
       "    </tr>\n",
       "  </tbody>\n",
       "</table>\n",
       "<p>3242 rows × 6 columns</p>\n",
       "</div>"
      ],
      "text/plain": [
       "      Unnamed: 0                       Time_Zone         Date  \\\n",
       "0              0   Central Africa Standard Time\\t  2021-05-07   \n",
       "1              1   Central Africa Standard Time\\t  2021-05-06   \n",
       "2              2   Central Africa Standard Time\\t  2021-05-06   \n",
       "3              3   Central Africa Standard Time\\t  2021-05-06   \n",
       "4              4   Central Africa Standard Time\\t  2021-05-06   \n",
       "...          ...                              ...         ...   \n",
       "3237        3237   Central Africa Standard Time\\t  2019-08-15   \n",
       "3238        3238   Central Africa Standard Time\\t  2019-08-15   \n",
       "3239        3239   Central Africa Standard Time\\t  2019-08-15   \n",
       "3240        3240   Central Africa Standard Time\\t  2019-08-15   \n",
       "3241        3241   Central Africa Standard Time\\t  2019-08-15   \n",
       "\n",
       "                                             Tweets_tag  \\\n",
       "0     \\t\\tIn preventing #VAW, it is necessary to und...   \n",
       "1     \\t\\tRT @SamaritanOrgan1: @GBVnet @WIIS_HoA Eve...   \n",
       "2     \\t\\tRT @KobugabeLucky: This was such an aspira...   \n",
       "3     \\t\\tRT @aj_emurwon: Wrote A Family Meeting, a ...   \n",
       "4     \\t\\tRT @YfcUganda: Why is it Dangerous? Victim...   \n",
       "...                                                 ...   \n",
       "3237  \\t\\tRT @MAKEDAComms: Adelaide Casely-Hayford p...   \n",
       "3238  \\t\\tRT @MAKEDAComms: Mekatilili wa Menza was a...   \n",
       "3239  \\t\\tRT @MAKEDAComms: In this essay for @AAIHS,...   \n",
       "3240  \\t\\tRT @MAKEDAComms: Feminism is not foreign t...   \n",
       "3241  \\t\\tRT @sisiogelagos: Nigerian women got A mes...   \n",
       "\n",
       "                                           Tweets_clean  \\\n",
       "0     in preventing vaw it is necessary to understan...   \n",
       "1     rt  gbvnet wiis hoa every day  we live by our ...   \n",
       "2     rt kobugabelucky this was such an aspirational...   \n",
       "3     rt aj emurwon wrote a family meeting a short s...   \n",
       "4     rt yfcuganda why is it dangerous victimblaming...   \n",
       "...                                                 ...   \n",
       "3237  rt makedacomms adelaide caselyhayford played a...   \n",
       "3238  rt makedacomms mekatilili wa menza was a kenya...   \n",
       "3239  rt makedacomms in this essay for aaihs jaimees...   \n",
       "3240  rt makedacomms feminism is not foreign to afri...   \n",
       "3241  rt sisiogelagos nigerian women got a message f...   \n",
       "\n",
       "                                  Tweets_clean_tokenize  \n",
       "0     [preventing, necessary, understand, recognize,...  \n",
       "1     [every, day, live, leading, grassroot, organis...  \n",
       "2     [this, aspirational, read, canâ, wait, convers...  \n",
       "3     [wrote, family, meeting, short, story, imago, ...  \n",
       "4     [why, dangerous, attitude, marginalize, victim...  \n",
       "...                                                 ...  \n",
       "3237  [adelaide, played, important, role, advocating...  \n",
       "3238  [mekatilili, menza, kenyan, woman, leader, led...  \n",
       "3239  [essay, chronicle, african, political, mobiliz...  \n",
       "3240  [feminism, foreign, africa, for, century, afri...  \n",
       "3241  [nigerian, woman, got, message, rapist, societ...  \n",
       "\n",
       "[3242 rows x 6 columns]"
      ]
     },
     "execution_count": 98,
     "metadata": {},
     "output_type": "execute_result"
    }
   ],
   "source": [
    "# Application of the function in the Dataframe\n",
    "gbv['Tweets_clean_tokenize']=gbv['Tweets_tag'].map(lambda X: clean_text_and_tokenize(X))\n",
    "gbv"
   ]
  },
  {
   "cell_type": "markdown",
   "metadata": {},
   "source": [
    "### word cloud where you can see which words are most used in the tweets of its users "
   ]
  },
  {
   "cell_type": "code",
   "execution_count": 99,
   "metadata": {},
   "outputs": [],
   "source": [
    "from PIL import Image\n",
    "from wordcloud import WordCloud, STOPWORDS"
   ]
  },
  {
   "cell_type": "code",
   "execution_count": 152,
   "metadata": {},
   "outputs": [
    {
     "data": {
      "image/png": "[encoded data removed]",
      "text/plain": [
       "<Figure size 1080x1440 with 1 Axes>"
      ]
     },
     "metadata": {},
     "output_type": "display_data"
    },
    {
     "data": {
      "text/plain": [
       "<Figure size 432x288 with 0 Axes>"
      ]
     },
     "metadata": {},
     "output_type": "display_data"
    }
   ],
   "source": [
    "text = str(gbv['Tweets_clean_tokenize'].values)\n",
    "\n",
    "def plot_word_cloud(text,masque) :\n",
    "    \n",
    "    mask_coloring = np.array(Image.open(str(masque)))\n",
    "    \n",
    "    # Définir le calque du nuage des mots\n",
    "    wc = WordCloud(width=600,height=600,background_color=\"white\", max_words=300, mask = mask_coloring, max_font_size=90,collocations = False, random_state=42)\n",
    "\n",
    "    # Générer et afficher le nuage de mots\n",
    "    plt.figure(figsize= (15,20))\n",
    "    wc.generate(text)\n",
    "    plt.imshow(wc,interpolation=\"bilinear\")\n",
    "    plt.axis(\"off\")\n",
    "    plt.show()\n",
    "    plt.savefig(\"GBV_World Cloud\")\n",
    "\n",
    "plot_word_cloud(text, 'oiseau_twitter.jpg')"
   ]
  },
  {
   "cell_type": "markdown",
   "metadata": {},
   "source": [
    ">* Some of the most use words are: 'Woman', 'africa','true','name','patriarchy', 'violence','girl', 'dominance'...."
   ]
  },
  {
   "cell_type": "markdown",
   "metadata": {},
   "source": [
    "## Sentiment analysis using Afinn library"
   ]
  },
  {
   "cell_type": "code",
   "execution_count": 101,
   "metadata": {},
   "outputs": [],
   "source": [
    "from afinn import Afinn"
   ]
  },
  {
   "cell_type": "code",
   "execution_count": 102,
   "metadata": {},
   "outputs": [
    {
     "data": {
      "text/html": [
       "<div>\n",
       "<style scoped>\n",
       "    .dataframe tbody tr th:only-of-type {\n",
       "        vertical-align: middle;\n",
       "    }\n",
       "\n",
       "    .dataframe tbody tr th {\n",
       "        vertical-align: top;\n",
       "    }\n",
       "\n",
       "    .dataframe thead th {\n",
       "        text-align: right;\n",
       "    }\n",
       "</style>\n",
       "<table border=\"1\" class=\"dataframe\">\n",
       "  <thead>\n",
       "    <tr style=\"text-align: right;\">\n",
       "      <th></th>\n",
       "      <th>afinn</th>\n",
       "      <th>Tweets_clean</th>\n",
       "    </tr>\n",
       "  </thead>\n",
       "  <tbody>\n",
       "    <tr>\n",
       "      <th>0</th>\n",
       "      <td>-8.0</td>\n",
       "      <td>in preventing vaw it is necessary to understan...</td>\n",
       "    </tr>\n",
       "    <tr>\n",
       "      <th>1</th>\n",
       "      <td>8.0</td>\n",
       "      <td>rt  gbvnet wiis hoa every day  we live by our ...</td>\n",
       "    </tr>\n",
       "    <tr>\n",
       "      <th>2</th>\n",
       "      <td>2.0</td>\n",
       "      <td>rt kobugabelucky this was such an aspirational...</td>\n",
       "    </tr>\n",
       "    <tr>\n",
       "      <th>3</th>\n",
       "      <td>5.0</td>\n",
       "      <td>rt aj emurwon wrote a family meeting a short s...</td>\n",
       "    </tr>\n",
       "    <tr>\n",
       "      <th>4</th>\n",
       "      <td>-5.0</td>\n",
       "      <td>rt yfcuganda why is it dangerous victimblaming...</td>\n",
       "    </tr>\n",
       "  </tbody>\n",
       "</table>\n",
       "</div>"
      ],
      "text/plain": [
       "   afinn                                       Tweets_clean\n",
       "0   -8.0  in preventing vaw it is necessary to understan...\n",
       "1    8.0  rt  gbvnet wiis hoa every day  we live by our ...\n",
       "2    2.0  rt kobugabelucky this was such an aspirational...\n",
       "3    5.0  rt aj emurwon wrote a family meeting a short s...\n",
       "4   -5.0  rt yfcuganda why is it dangerous victimblaming..."
      ]
     },
     "execution_count": 102,
     "metadata": {},
     "output_type": "execute_result"
    }
   ],
   "source": [
    "afinn=Afinn()\n",
    "\n",
    "afinn_scores = [afinn.score(text) for text in gbv.Tweets_clean]\n",
    "gbv['afinn'] = afinn_scores\n",
    "gbv[['afinn', 'Tweets_clean']].head()"
   ]
  },
  {
   "cell_type": "code",
   "execution_count": 103,
   "metadata": {},
   "outputs": [
    {
     "data": {
      "text/html": [
       "<div>\n",
       "<style scoped>\n",
       "    .dataframe tbody tr th:only-of-type {\n",
       "        vertical-align: middle;\n",
       "    }\n",
       "\n",
       "    .dataframe tbody tr th {\n",
       "        vertical-align: top;\n",
       "    }\n",
       "\n",
       "    .dataframe thead th {\n",
       "        text-align: right;\n",
       "    }\n",
       "</style>\n",
       "<table border=\"1\" class=\"dataframe\">\n",
       "  <thead>\n",
       "    <tr style=\"text-align: right;\">\n",
       "      <th></th>\n",
       "      <th>Unnamed: 0</th>\n",
       "      <th>Time_Zone</th>\n",
       "      <th>Date</th>\n",
       "      <th>Tweets_tag</th>\n",
       "      <th>Tweets_clean</th>\n",
       "      <th>Tweets_clean_tokenize</th>\n",
       "      <th>afinn</th>\n",
       "      <th>Sentiment_Type</th>\n",
       "    </tr>\n",
       "  </thead>\n",
       "  <tbody>\n",
       "    <tr>\n",
       "      <th>0</th>\n",
       "      <td>0</td>\n",
       "      <td>Central Africa Standard Time\\t</td>\n",
       "      <td>2021-05-07</td>\n",
       "      <td>\\t\\tIn preventing #VAW, it is necessary to und...</td>\n",
       "      <td>in preventing vaw it is necessary to understan...</td>\n",
       "      <td>[preventing, necessary, understand, recognize,...</td>\n",
       "      <td>-8.0</td>\n",
       "      <td>NEGATIVE</td>\n",
       "    </tr>\n",
       "    <tr>\n",
       "      <th>1</th>\n",
       "      <td>1</td>\n",
       "      <td>Central Africa Standard Time\\t</td>\n",
       "      <td>2021-05-06</td>\n",
       "      <td>\\t\\tRT @SamaritanOrgan1: @GBVnet @WIIS_HoA Eve...</td>\n",
       "      <td>rt  gbvnet wiis hoa every day  we live by our ...</td>\n",
       "      <td>[every, day, live, leading, grassroot, organis...</td>\n",
       "      <td>8.0</td>\n",
       "      <td>POSITIVE</td>\n",
       "    </tr>\n",
       "    <tr>\n",
       "      <th>2</th>\n",
       "      <td>2</td>\n",
       "      <td>Central Africa Standard Time\\t</td>\n",
       "      <td>2021-05-06</td>\n",
       "      <td>\\t\\tRT @KobugabeLucky: This was such an aspira...</td>\n",
       "      <td>rt kobugabelucky this was such an aspirational...</td>\n",
       "      <td>[this, aspirational, read, canâ, wait, convers...</td>\n",
       "      <td>2.0</td>\n",
       "      <td>POSITIVE</td>\n",
       "    </tr>\n",
       "    <tr>\n",
       "      <th>3</th>\n",
       "      <td>3</td>\n",
       "      <td>Central Africa Standard Time\\t</td>\n",
       "      <td>2021-05-06</td>\n",
       "      <td>\\t\\tRT @aj_emurwon: Wrote A Family Meeting, a ...</td>\n",
       "      <td>rt aj emurwon wrote a family meeting a short s...</td>\n",
       "      <td>[wrote, family, meeting, short, story, imago, ...</td>\n",
       "      <td>5.0</td>\n",
       "      <td>POSITIVE</td>\n",
       "    </tr>\n",
       "    <tr>\n",
       "      <th>4</th>\n",
       "      <td>4</td>\n",
       "      <td>Central Africa Standard Time\\t</td>\n",
       "      <td>2021-05-06</td>\n",
       "      <td>\\t\\tRT @YfcUganda: Why is it Dangerous? Victim...</td>\n",
       "      <td>rt yfcuganda why is it dangerous victimblaming...</td>\n",
       "      <td>[why, dangerous, attitude, marginalize, victim...</td>\n",
       "      <td>-5.0</td>\n",
       "      <td>NEGATIVE</td>\n",
       "    </tr>\n",
       "    <tr>\n",
       "      <th>...</th>\n",
       "      <td>...</td>\n",
       "      <td>...</td>\n",
       "      <td>...</td>\n",
       "      <td>...</td>\n",
       "      <td>...</td>\n",
       "      <td>...</td>\n",
       "      <td>...</td>\n",
       "      <td>...</td>\n",
       "    </tr>\n",
       "    <tr>\n",
       "      <th>3237</th>\n",
       "      <td>3237</td>\n",
       "      <td>Central Africa Standard Time\\t</td>\n",
       "      <td>2019-08-15</td>\n",
       "      <td>\\t\\tRT @MAKEDAComms: Adelaide Casely-Hayford p...</td>\n",
       "      <td>rt makedacomms adelaide caselyhayford played a...</td>\n",
       "      <td>[adelaide, played, important, role, advocating...</td>\n",
       "      <td>6.0</td>\n",
       "      <td>POSITIVE</td>\n",
       "    </tr>\n",
       "    <tr>\n",
       "      <th>3238</th>\n",
       "      <td>3238</td>\n",
       "      <td>Central Africa Standard Time\\t</td>\n",
       "      <td>2019-08-15</td>\n",
       "      <td>\\t\\tRT @MAKEDAComms: Mekatilili wa Menza was a...</td>\n",
       "      <td>rt makedacomms mekatilili wa menza was a kenya...</td>\n",
       "      <td>[mekatilili, menza, kenyan, woman, leader, led...</td>\n",
       "      <td>1.0</td>\n",
       "      <td>POSITIVE</td>\n",
       "    </tr>\n",
       "    <tr>\n",
       "      <th>3239</th>\n",
       "      <td>3239</td>\n",
       "      <td>Central Africa Standard Time\\t</td>\n",
       "      <td>2019-08-15</td>\n",
       "      <td>\\t\\tRT @MAKEDAComms: In this essay for @AAIHS,...</td>\n",
       "      <td>rt makedacomms in this essay for aaihs jaimees...</td>\n",
       "      <td>[essay, chronicle, african, political, mobiliz...</td>\n",
       "      <td>4.0</td>\n",
       "      <td>POSITIVE</td>\n",
       "    </tr>\n",
       "    <tr>\n",
       "      <th>3240</th>\n",
       "      <td>3240</td>\n",
       "      <td>Central Africa Standard Time\\t</td>\n",
       "      <td>2019-08-15</td>\n",
       "      <td>\\t\\tRT @MAKEDAComms: Feminism is not foreign t...</td>\n",
       "      <td>rt makedacomms feminism is not foreign to afri...</td>\n",
       "      <td>[feminism, foreign, africa, for, century, afri...</td>\n",
       "      <td>3.0</td>\n",
       "      <td>POSITIVE</td>\n",
       "    </tr>\n",
       "    <tr>\n",
       "      <th>3241</th>\n",
       "      <td>3241</td>\n",
       "      <td>Central Africa Standard Time\\t</td>\n",
       "      <td>2019-08-15</td>\n",
       "      <td>\\t\\tRT @sisiogelagos: Nigerian women got A mes...</td>\n",
       "      <td>rt sisiogelagos nigerian women got a message f...</td>\n",
       "      <td>[nigerian, woman, got, message, rapist, societ...</td>\n",
       "      <td>6.0</td>\n",
       "      <td>POSITIVE</td>\n",
       "    </tr>\n",
       "  </tbody>\n",
       "</table>\n",
       "<p>3242 rows × 8 columns</p>\n",
       "</div>"
      ],
      "text/plain": [
       "      Unnamed: 0                       Time_Zone         Date  \\\n",
       "0              0   Central Africa Standard Time\\t  2021-05-07   \n",
       "1              1   Central Africa Standard Time\\t  2021-05-06   \n",
       "2              2   Central Africa Standard Time\\t  2021-05-06   \n",
       "3              3   Central Africa Standard Time\\t  2021-05-06   \n",
       "4              4   Central Africa Standard Time\\t  2021-05-06   \n",
       "...          ...                              ...         ...   \n",
       "3237        3237   Central Africa Standard Time\\t  2019-08-15   \n",
       "3238        3238   Central Africa Standard Time\\t  2019-08-15   \n",
       "3239        3239   Central Africa Standard Time\\t  2019-08-15   \n",
       "3240        3240   Central Africa Standard Time\\t  2019-08-15   \n",
       "3241        3241   Central Africa Standard Time\\t  2019-08-15   \n",
       "\n",
       "                                             Tweets_tag  \\\n",
       "0     \\t\\tIn preventing #VAW, it is necessary to und...   \n",
       "1     \\t\\tRT @SamaritanOrgan1: @GBVnet @WIIS_HoA Eve...   \n",
       "2     \\t\\tRT @KobugabeLucky: This was such an aspira...   \n",
       "3     \\t\\tRT @aj_emurwon: Wrote A Family Meeting, a ...   \n",
       "4     \\t\\tRT @YfcUganda: Why is it Dangerous? Victim...   \n",
       "...                                                 ...   \n",
       "3237  \\t\\tRT @MAKEDAComms: Adelaide Casely-Hayford p...   \n",
       "3238  \\t\\tRT @MAKEDAComms: Mekatilili wa Menza was a...   \n",
       "3239  \\t\\tRT @MAKEDAComms: In this essay for @AAIHS,...   \n",
       "3240  \\t\\tRT @MAKEDAComms: Feminism is not foreign t...   \n",
       "3241  \\t\\tRT @sisiogelagos: Nigerian women got A mes...   \n",
       "\n",
       "                                           Tweets_clean  \\\n",
       "0     in preventing vaw it is necessary to understan...   \n",
       "1     rt  gbvnet wiis hoa every day  we live by our ...   \n",
       "2     rt kobugabelucky this was such an aspirational...   \n",
       "3     rt aj emurwon wrote a family meeting a short s...   \n",
       "4     rt yfcuganda why is it dangerous victimblaming...   \n",
       "...                                                 ...   \n",
       "3237  rt makedacomms adelaide caselyhayford played a...   \n",
       "3238  rt makedacomms mekatilili wa menza was a kenya...   \n",
       "3239  rt makedacomms in this essay for aaihs jaimees...   \n",
       "3240  rt makedacomms feminism is not foreign to afri...   \n",
       "3241  rt sisiogelagos nigerian women got a message f...   \n",
       "\n",
       "                                  Tweets_clean_tokenize  afinn Sentiment_Type  \n",
       "0     [preventing, necessary, understand, recognize,...   -8.0       NEGATIVE  \n",
       "1     [every, day, live, leading, grassroot, organis...    8.0       POSITIVE  \n",
       "2     [this, aspirational, read, canâ, wait, convers...    2.0       POSITIVE  \n",
       "3     [wrote, family, meeting, short, story, imago, ...    5.0       POSITIVE  \n",
       "4     [why, dangerous, attitude, marginalize, victim...   -5.0       NEGATIVE  \n",
       "...                                                 ...    ...            ...  \n",
       "3237  [adelaide, played, important, role, advocating...    6.0       POSITIVE  \n",
       "3238  [mekatilili, menza, kenyan, woman, leader, led...    1.0       POSITIVE  \n",
       "3239  [essay, chronicle, african, political, mobiliz...    4.0       POSITIVE  \n",
       "3240  [feminism, foreign, africa, for, century, afri...    3.0       POSITIVE  \n",
       "3241  [nigerian, woman, got, message, rapist, societ...    6.0       POSITIVE  \n",
       "\n",
       "[3242 rows x 8 columns]"
      ]
     },
     "execution_count": 103,
     "metadata": {},
     "output_type": "execute_result"
    }
   ],
   "source": [
    "gbv['Sentiment_Type']=''\n",
    "gbv.loc[gbv.afinn>0,'Sentiment_Type']='POSITIVE'\n",
    "gbv.loc[gbv.afinn==0,'Sentiment_Type']='NEUTRAL'\n",
    "gbv.loc[gbv.afinn<0,'Sentiment_Type']='NEGATIVE'\n",
    "gbv"
   ]
  },
  {
   "cell_type": "code",
   "execution_count": 151,
   "metadata": {
    "scrolled": false
   },
   "outputs": [
    {
     "data": {
      "image/png": "[encoded data removed]",
      "text/plain": [
       "<Figure size 576x432 with 1 Axes>"
      ]
     },
     "metadata": {},
     "output_type": "display_data"
    }
   ],
   "source": [
    "plt.figure(figsize=(8,6))\n",
    "gbv.Sentiment_Type.value_counts().plot(kind='bar',title=\"Sentiment Analysis\")\n",
    "plt.show()"
   ]
  },
  {
   "cell_type": "markdown",
   "metadata": {},
   "source": [
    ">* We observe that more tweets are also  negative"
   ]
  },
  {
   "cell_type": "markdown",
   "metadata": {},
   "source": [
    "## Conclusion\n",
    "\n",
    ">* In all the different datasets, we see that sexual violence is the most predominant form of violence.\n",
    "\n",
    ">* We also saw the country distributions where violence is prevalent. \n",
    "\n",
    ">* We suggest that to curb the sexual violence in the underlying countries, investigations should be done on the causes of such violence. \n",
    "\n"
   ]
  }
 ],
 "metadata": {
  "kernelspec": {
   "display_name": "Python 3",
   "language": "python",
   "name": "python3"
  },
  "language_info": {
   "codemirror_mode": {
    "name": "ipython",
    "version": 3
   },
   "file_extension": ".py",
   "mimetype": "text/x-python",
   "name": "python",
   "nbconvert_exporter": "python",
   "pygments_lexer": "ipython3",
   "version": "3.8.5"
  }
 },
 "nbformat": 4,
 "nbformat_minor": 4
}
